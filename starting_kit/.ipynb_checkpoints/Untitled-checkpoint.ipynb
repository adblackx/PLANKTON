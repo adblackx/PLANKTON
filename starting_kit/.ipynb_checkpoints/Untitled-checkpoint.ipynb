{
 "cells": [
  {
   "cell_type": "code",
   "execution_count": 1,
   "metadata": {},
   "outputs": [],
   "source": [
    "model_dir = 'sample_code_submission/'                        # Change the model to a better one once you have one!\n",
    "result_dir = 'sample_result_submission/' \n",
    "problem_dir = 'ingestion_program/'  \n",
    "score_dir = 'scoring_program/'\n",
    "from sys import path; path.append(model_dir); path.append(problem_dir); path.append(score_dir); \n",
    "%matplotlib inline\n",
    "# Uncomment the next lines to auto-reload libraries (this causes some problem with pickles in Python 3)\n",
    "%load_ext autoreload\n",
    "%autoreload 2\n",
    "import seaborn as sns; sns.set()\n",
    "import warnings\n",
    "warnings.simplefilter(action='ignore', category=FutureWarning)\n",
    "import matplotlib.pyplot as plt\n",
    "import pandas as pd"
   ]
  },
  {
   "cell_type": "code",
   "execution_count": 2,
   "metadata": {},
   "outputs": [
    {
     "name": "stdout",
     "output_type": "stream",
     "text": [
      "public_data_raw_gaiasavers/plankton_feat.name\r\n",
      "public_data_raw_gaiasavers/plankton_label.name\r\n",
      "public_data_raw_gaiasavers/plankton_private.info\r\n",
      "public_data_raw_gaiasavers/plankton_public.info\r\n",
      "public_data_raw_gaiasavers/plankton_test.data\r\n",
      "public_data_raw_gaiasavers/plankton_test.solution\r\n",
      "public_data_raw_gaiasavers/plankton_train.data\r\n",
      "public_data_raw_gaiasavers/plankton_train.solution\r\n",
      "public_data_raw_gaiasavers/plankton_valid.data\r\n",
      "public_data_raw_gaiasavers/plankton_valid.solution\r\n"
     ]
    }
   ],
   "source": [
    "from data_manager import DataManager\n",
    "data_dir = 'public_data_raw_gaiasavers/'          # The sample_data directory should contain only a very small subset of the data\n",
    "data_name = 'plankton'\n",
    "!ls $data_dir*"
   ]
  },
  {
   "cell_type": "code",
   "execution_count": 3,
   "metadata": {},
   "outputs": [
    {
     "name": "stdout",
     "output_type": "stream",
     "text": [
      "Info file found : /home/ramdane/Bureau/PLANKTON/starting_kit/public_data_raw_gaiasavers/plankton_public.info\n"
     ]
    }
   ],
   "source": [
    "D = DataManager(data_name, data_dir, replace_missing=True)\n",
    "\n",
    "X_train = D.data['X_train']\n",
    "Y_train = D.data['Y_train'].ravel()"
   ]
  },
  {
   "cell_type": "code",
   "execution_count": 5,
   "metadata": {},
   "outputs": [],
   "source": [
    "import numpy as np"
   ]
  },
  {
   "cell_type": "code",
   "execution_count": 11,
   "metadata": {},
   "outputs": [],
   "source": [
    "A = np.zeros((100,100))\n",
    "A[0:501,:]=255"
   ]
  },
  {
   "cell_type": "code",
   "execution_count": 25,
   "metadata": {},
   "outputs": [
    {
     "data": {
      "image/png": "[encoded data removed]",
      "text/plain": [
       "<Figure size 432x288 with 1 Axes>"
      ]
     },
     "metadata": {},
     "output_type": "display_data"
    }
   ],
   "source": [
    "for i in np.range(0,len(X)):\n",
    "    B = np.reshape(X_train[i], (100, 100))\n",
    "    plt.imshow(B, cmap=\"gray\")\n",
    "    plt.savefig('images_raw/img'+str(i)+'.png')\n",
    "    plt.show()\n"
   ]
  },
  {
   "cell_type": "code",
   "execution_count": null,
   "metadata": {},
   "outputs": [],
   "source": []
  }
 ],
 "metadata": {
  "kernelspec": {
   "display_name": "Python 3",
   "language": "python",
   "name": "python3"
  },
  "language_info": {
   "codemirror_mode": {
    "name": "ipython",
    "version": 3
   },
   "file_extension": ".py",
   "mimetype": "text/x-python",
   "name": "python",
   "nbconvert_exporter": "python",
   "pygments_lexer": "ipython3",
   "version": "3.7.3"
  }
 },
 "nbformat": 4,
 "nbformat_minor": 4
}
