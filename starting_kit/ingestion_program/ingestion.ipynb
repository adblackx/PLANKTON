{
 "cells": [
  {
   "cell_type": "code",
   "execution_count": 1,
   "metadata": {},
   "outputs": [],
   "source": [
    "# Exemple pour faire tourner le programme ingestion"
   ]
  },
  {
   "cell_type": "code",
<<<<<<< HEAD
   "execution_count": 3,
=======
   "execution_count": null,
>>>>>>> 77310aa25aef9d3f82d96fd754f5c890c5309cab
   "metadata": {
    "scrolled": false
   },
   "outputs": [
    {
     "name": "stdout",
     "output_type": "stream",
     "text": [
      "Using input_dir: ../public_data_raw_gaiasavers\n",
      "Using output_dir: ../sample_result_submission\n",
      "Using program_dir: ../ingestion_program\n",
      "Using submission_dir: ../sample_code_submission\n",
      "\n",
      "========== Ingestion program version 6 ==========\n",
      "\n",
      "************************************************\n",
      "******** Processing dataset Plankton ********\n",
      "************************************************\n",
      "========= Reading and converting data ==========\n",
      "Info file found : /home/ramdane/Bureau/PLANKTON/starting_kit/public_data_raw_gaiasavers/plankton_public.info\n",
      "========= Reading ../public_data_raw_gaiasavers/plankton_feat.type\n",
      "[+] Success in  0.01 sec\n",
      "========= Reading ../public_data_raw_gaiasavers/plankton_train.data\n",
      "Replace missing values by 0 (slow, sorry)\n",
<<<<<<< HEAD
      "[+] Success in  2.35 sec\n",
=======
      "[+] Success in  2.57 sec\n",
>>>>>>> 77310aa25aef9d3f82d96fd754f5c890c5309cab
      "========= Reading ../public_data_raw_gaiasavers/plankton_train.solution\n",
      "[+] Success in  0.00 sec\n",
      "========= Reading ../public_data_raw_gaiasavers/plankton_valid.data\n",
      "Replace missing values by 0 (slow, sorry)\n",
<<<<<<< HEAD
      "[+] Success in  0.96 sec\n",
=======
      "[+] Success in  1.21 sec\n",
>>>>>>> 77310aa25aef9d3f82d96fd754f5c890c5309cab
      "========= Reading ../public_data_raw_gaiasavers/plankton_valid.solution\n",
      "[+] Success in  0.00 sec\n",
      "========= Reading ../public_data_raw_gaiasavers/plankton_test.data\n",
      "Replace missing values by 0 (slow, sorry)\n",
<<<<<<< HEAD
      "[+] Success in  0.96 sec\n",
=======
      "[+] Success in  1.21 sec\n",
>>>>>>> 77310aa25aef9d3f82d96fd754f5c890c5309cab
      "========= Reading ../public_data_raw_gaiasavers/plankton_test.solution\n",
      "[+] Success in  0.00 sec\n",
      "DataManager : plankton\n",
      "info:\n",
      "\tusage = Sample dataset plankton data\n",
      "\tname = plankton\n",
      "\ttask = multiclass.classification\n",
      "\ttarget_type = Numerical\n",
      "\tfeat_type = Numerical\n",
      "\tmetric = bac_metric\n",
      "\ttime_budget = 1200\n",
      "\tfeat_num = 90000\n",
      "\ttarget_num = 7\n",
      "\tlabel_num = 7\n",
      "\ttrain_num = 10752\n",
      "\tvalid_num = 3584\n",
      "\ttest_num = 3584\n",
      "\thas_categorical = 0\n",
      "\thas_missing = 0\n",
      "\tis_sparse = 0\n",
      "\tformat = dense\n",
      "data:\n",
      "\tX_train = array(1400, 10000)\n",
      "\tY_train = array(1400, 1)\n",
      "\tX_valid = array(700, 10000)\n",
      "\tY_valid = array(700, 1)\n",
      "\tX_test = array(700, 10000)\n",
      "\tY_test = array(700, 1)\n",
      "feat_type:\tarray(90000,)\n",
      "feat_idx:\tarray(10000,)\n",
      "\n",
      "[+] Size of uploaded data  56.00 bytes\n",
      "[+] Cumulated time budget (all tasks so far)  1200.00 sec\n",
      "[+] Time budget for this task 1200.00 sec\n",
<<<<<<< HEAD
      "[+] Remaining time after reading data 1195.66 sec\n",
=======
      "[+] Remaining time after reading data 1194.93 sec\n",
>>>>>>> 77310aa25aef9d3f82d96fd754f5c890c5309cab
      "======== Creating model ==========\n",
      "**********************************************************\n",
      "****** Attempting to reload model to avoid training ******\n",
      "**********************************************************\n",
      "======== Trained model not found, proceeding to train!\n",
      "nb deletion :  30\n",
<<<<<<< HEAD
      "voting: Runs methode\n"
=======
      "finBest: models runned: \n",
      "process\n"
>>>>>>> 77310aa25aef9d3f82d96fd754f5c890c5309cab
     ]
    },
    {
     "name": "stderr",
     "output_type": "stream",
     "text": [
<<<<<<< HEAD
      "/home/ramdane/.local/lib/python3.7/site-packages/sklearn/preprocessing/_label.py:235: DataConversionWarning: A column-vector y was passed when a 1d array was expected. Please change the shape of y to (n_samples, ), for example using ravel().\n",
      "  y = column_or_1d(y, warn=True)\n",
      "/home/ramdane/.local/lib/python3.7/site-packages/sklearn/preprocessing/_label.py:268: DataConversionWarning: A column-vector y was passed when a 1d array was expected. Please change the shape of y to (n_samples, ), for example using ravel().\n",
      "  y = column_or_1d(y, warn=True)\n"
     ]
    },
    {
     "name": "stdout",
     "output_type": "stream",
     "text": [
      "FIT MON MODEL\n",
      "[+] Fitting success, time spent so far  1.91 sec\n",
      "======== Saving model to: ../sample_result_submission\n",
      "save  ../sample_code_submission/plankton   _model.pickle\n",
      "[+] Success!\n",
      "PREDICT \n",
      "PREDICT \n",
      "PREDICT \n",
      "[+] Prediction success, time spent so far  3.57 sec\n",
      "======== Saving results to: ../sample_result_submission\n",
      "[+] Results saved, time spent so far  3.57 sec\n",
      "[+] End cycle, time left 1196.43 sec\n",
      "[+] Done\n",
      "[+] Overall time spent  7.92 sec ::  Overall time budget 1200.00 sec\n"
=======
      "/home/fenrir/anaconda3/lib/python3.7/site-packages/sklearn/pipeline.py:354: DataConversionWarning: A column-vector y was passed when a 1d array was expected. Please change the shape of y to (n_samples,), for example using ravel().\n",
      "  self._final_estimator.fit(Xt, y, **fit_params)\n"
>>>>>>> 77310aa25aef9d3f82d96fd754f5c890c5309cab
     ]
    }
   ],
   "source": [
    "%run -i 'ingestion.py'"
   ]
  },
  {
   "cell_type": "code",
   "execution_count": null,
   "metadata": {},
   "outputs": [],
   "source": []
  },
  {
   "cell_type": "code",
   "execution_count": null,
   "metadata": {},
   "outputs": [],
   "source": []
  }
 ],
 "metadata": {
  "kernelspec": {
   "display_name": "Python 3",
   "language": "python",
   "name": "python3"
  },
  "language_info": {
   "codemirror_mode": {
    "name": "ipython",
    "version": 3
   },
   "file_extension": ".py",
   "mimetype": "text/x-python",
   "name": "python",
   "nbconvert_exporter": "python",
   "pygments_lexer": "ipython3",
   "version": "3.7.3"
  }
 },
 "nbformat": 4,
 "nbformat_minor": 4
}
