{
 "cells": [
  {
   "cell_type": "code",
   "execution_count": 5,
   "metadata": {},
   "outputs": [],
   "source": [
    "# Exemple pour faire tourner le programme ingestion"
   ]
  },
  {
   "cell_type": "code",
   "execution_count": 18,
   "metadata": {},
   "outputs": [
    {
     "name": "stdout",
     "output_type": "stream",
     "text": [
      "Using input_dir: ../sample_data\n",
      "Using output_dir: ../sample_result_submission\n",
      "Using program_dir: ../ingestion_program\n",
      "Using submission_dir: ../sample_code_submission\n",
      "\n",
      "========== Ingestion program version 6 ==========\n",
      "\n",
      "************************************************\n",
      "******** Processing dataset Plankton ********\n",
      "************************************************\n",
      "========= Reading and converting data ==========\n",
      "Info file found : /home/ramdane/Bureau/PLANKTON/starting_kit/sample_data/plankton_public.info\n",
      "========= Reading ../sample_data/plankton_feat.type\n",
      "[+] Success in  0.00 sec\n",
      "========= Reading ../sample_data/plankton_train.data\n",
      "Replace missing values by 0 (slow, sorry)\n",
      "[+] Success in  0.05 sec\n",
      "========= Reading ../sample_data/plankton_train.solution\n",
      "[+] Success in  0.00 sec\n",
      "========= Reading ../sample_data/plankton_valid.data\n",
      "Replace missing values by 0 (slow, sorry)\n",
      "[+] Success in  0.02 sec\n",
      "========= Reading ../sample_data/plankton_valid.solution\n",
      "[+] Success in  0.00 sec\n",
      "========= Reading ../sample_data/plankton_test.data\n",
      "Replace missing values by 0 (slow, sorry)\n",
      "[+] Success in  0.02 sec\n",
      "========= Reading ../sample_data/plankton_test.solution\n",
      "[+] Success in  0.00 sec\n",
      "DataManager : plankton\n",
      "info:\n",
      "\tusage = Sample dataset plankton data\n",
      "\tname = plankton\n",
      "\ttask = multiclass.classification\n",
      "\ttarget_type = Numerical\n",
      "\tfeat_type = Numerical\n",
      "\tmetric = bac_metric\n",
      "\ttime_budget = 1200\n",
      "\tfeat_num = 202\n",
      "\ttarget_num = 7\n",
      "\tlabel_num = 7\n",
      "\ttrain_num = 10752\n",
      "\tvalid_num = 3584\n",
      "\ttest_num = 3584\n",
      "\thas_categorical = 0\n",
      "\thas_missing = 0\n",
      "\tis_sparse = 0\n",
      "\tformat = dense\n",
      "data:\n",
      "\tX_train = array(1400, 203)\n",
      "\tY_train = array(1400, 1)\n",
      "\tX_valid = array(700, 203)\n",
      "\tY_valid = array(700, 1)\n",
      "\tX_test = array(700, 203)\n",
      "\tY_test = array(700, 1)\n",
      "feat_type:\tarray(202,)\n",
      "feat_idx:\tarray(203,)\n",
      "\n",
      "[+] Size of uploaded data  56.00 bytes\n",
      "[+] Cumulated time budget (all tasks so far)  1200.00 sec\n",
      "[+] Time budget for this task 1200.00 sec\n",
      "[+] Remaining time after reading data 1199.90 sec\n",
      "======== Creating model ==========\n",
      "model(classifier=RandomForestClassifier(bootstrap=True, ccp_alpha=0.0,\n",
      "                                        class_weight=None, criterion='gini',\n",
      "                                        max_depth=None, max_features='auto',\n",
      "                                        max_leaf_nodes=None, max_samples=None,\n",
      "                                        min_impurity_decrease=0.0,\n",
      "                                        min_impurity_split=None,\n",
      "                                        min_samples_leaf=1, min_samples_split=2,\n",
      "                                        min_weight_fraction_leaf=0.0,\n",
      "                                        n_estimators=191, n_jobs=None,\n",
      "                                        oob_score=False, random_state=0,\n",
      "                                        verbose=0, warm_start=False))\n",
      "**********************************************************\n",
      "****** Attempting to reload model to avoid training ******\n",
      "**********************************************************\n",
      "os.path ../sample_code_submission plankton\n",
      "======== Trained model not found, proceeding to train!\n",
      "FIT: dim(X)= [1400, 203]\n",
      "FIT: dim(y)= [1400, 1]\n"
     ]
    },
    {
     "name": "stderr",
     "output_type": "stream",
     "text": [
      "../sample_code_submission/model.py:56: DataConversionWarning: A column-vector y was passed when a 1d array was expected. Please change the shape of y to (n_samples,), for example using ravel().\n",
      "  \n"
     ]
    },
    {
     "name": "stdout",
     "output_type": "stream",
     "text": [
      "[+] Fitting success, time spent so far  1.12 sec\n",
      "======== Saving model to: ../sample_result_submission\n",
      "[+] Success!\n",
      "PREDICT: dim(X)= [1400, 203]\n",
      "PREDICT: dim(y)= [1400, 1]\n",
      "PREDICT: dim(X)= [700, 203]\n",
      "PREDICT: dim(y)= [700, 1]\n",
      "PREDICT: dim(X)= [700, 203]\n",
      "PREDICT: dim(y)= [700, 1]\n",
      "[+] Prediction success, time spent so far  1.22 sec\n",
      "======== Saving results to: ../sample_result_submission\n",
      "[+] Results saved, time spent so far  1.22 sec\n",
      "[+] End cycle, time left 1198.78 sec\n",
      "[+] Done\n",
      "[+] Overall time spent  1.32 sec ::  Overall time budget 1200.00 sec\n"
     ]
    }
   ],
   "source": [
    "%run -i 'ingestion.py'\n"
   ]
  },
  {
   "cell_type": "code",
   "execution_count": null,
   "metadata": {},
   "outputs": [],
   "source": []
  }
 ],
 "metadata": {
  "kernelspec": {
   "display_name": "Python 3",
   "language": "python",
   "name": "python3"
  },
  "language_info": {
   "codemirror_mode": {
    "name": "ipython",
    "version": 3
   },
   "file_extension": ".py",
   "mimetype": "text/x-python",
   "name": "python",
   "nbconvert_exporter": "python",
   "pygments_lexer": "ipython3",
   "version": "3.7.3"
  }
 },
 "nbformat": 4,
 "nbformat_minor": 4
}
