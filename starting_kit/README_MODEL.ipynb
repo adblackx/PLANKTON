{
 "cells": [
  {
   "cell_type": "markdown",
   "metadata": {},
   "source": [
    "<div style=\"background:#FFFFAA\">\n",
    "<img src=\"logo.jpg\", width=150, ALIGN=\"left\", border=20>\n",
    "    <h1>Team GAIASAVERS</h1>\n",
    "    <h3>Alban Petit, Wafa Bouzouita,Timothée Babinet, Maxime Chor, Eric Wang, Sebastien Warichet</h3>\n",
    "    <h2>Plankton classification challenge</h2>\n",
    "\n",
    "<br>This code was tested with <br>\n",
    "Python 3.7 |Anaconda custom (64-bit)| (default, Jun 28 2018, 11:07:29) (https://anaconda.org/)<br>\n",
    "<i> Adapted for Chalab by Isabelle Guyon from original code of Balázs Kégl</i> <br>\n",
    "<a href=\"http://www.datascience-paris-saclay.fr\">Paris Saclay Center for Data Science (CDS)</a>\n",
    "</center>\n",
    "<p>\n",
    "ALL INFORMATION, SOFTWARE, DOCUMENTATION, AND DATA ARE PROVIDED \"AS-IS\". The CDS, CHALEARN, AND/OR OTHER ORGANIZERS OR CODE AUTHORS DISCLAIM ANY EXPRESSED OR IMPLIED WARRANTIES, INCLUDING, BUT NOT LIMITED TO, THE IMPLIED WARRANTIES OF MERCHANTABILITY AND FITNESS FOR ANY PARTICULAR PURPOSE, AND THE WARRANTY OF NON-INFRIGEMENT OF ANY THIRD PARTY'S INTELLECTUAL PROPERTY RIGHTS. IN NO EVENT SHALL AUTHORS AND ORGANIZERS BE LIABLE FOR ANY SPECIAL, \n",
    "INDIRECT OR CONSEQUENTIAL DAMAGES OR ANY DAMAGES WHATSOEVER ARISING OUT OF OR IN CONNECTION WITH THE USE OR PERFORMANCE OF SOFTWARE, DOCUMENTS, MATERIALS, PUBLICATIONS, OR INFORMATION MADE AVAILABLE FOR THE CHALLENGE. \n",
    "</div>"
   ]
  },
  {
   "cell_type": "markdown",
   "metadata": {},
   "source": [
    "<div style=\"background:#FFFFAA\">\n",
    "    <h2>Introduction </h2>\n",
    "     <br>\n",
    "       \n",
    "According to [NRMA15], a link has been found between the quality of water and the presence of plankton in said water. As water quality increases, the abundance and diversity of plankton does as well. The aim of our project is to build a plankton classifier to assess water quality.\n",
    "\n",
    "We use for this problem the Bering Sea dataset, an in situ plankton dataset published in May 2019 by Kaichang Cheng [Che19]. This datset contains 7 classes with an even spread.\n",
    "\n",
    "        \n",
    "References and credits: \n",
    "- [NRMA15] A. Nair, J.K. Reshma, A. Mathew, and A. Ashok. Effect of water quality on phytoplankton abundance in selected ponds of nedumangad block panchayat, kerala. Emer Life Sci Res, 2015.\n",
    "- [Che19] K. Cheng. Bering sea dataset. https://doi.org/10.6084/m9.figshare.8146283.v3, 2019.\n",
    " <br>\n",
    "</div>"
   ]
  },
  {
   "cell_type": "markdown",
   "metadata": {},
   "source": [
    "<img src=\"images/sample.png\" alt=\"Drawing\"/>\n",
    "To see more images for each class, see the \"images\" folder."
   ]
  },
  {
   "cell_type": "code",
   "execution_count": 1,
   "metadata": {},
   "outputs": [],
   "source": [
    "model_dir = 'sample_code_submission/'                        # Change the model to a better one once you have one!\n",
    "result_dir = 'sample_result_submission/' \n",
    "problem_dir = 'ingestion_program/'  \n",
    "score_dir = 'scoring_program/'\n",
    "from sys import path; path.append(model_dir); path.append(problem_dir); path.append(score_dir); \n",
    "%matplotlib inline\n",
    "# Uncomment the next lines to auto-reload libraries (this causes some problem with pickles in Python 3)\n",
    "%load_ext autoreload\n",
    "%autoreload 2\n",
    "import seaborn as sns; sns.set()\n",
    "import warnings\n",
    "warnings.simplefilter(action='ignore', category=FutureWarning)\n",
    "import matplotlib.pyplot as plt\n",
    "import pandas as pd"
   ]
  },
  {
   "cell_type": "markdown",
   "metadata": {},
   "source": [
    "<div style=\"background:#FFFFAA\">\n",
    "    <h1> Step 1: Exploratory data analysis </h1>\n",
    "<p>\n",
    "We provide sample_data with the starting kit, but to prepare your submission, you must fetch the public_data from the challenge website and point to it.\n",
    "    <br>\n",
    "    <span style=\"color:red\"> Just change the data name in the block below. In the rest of the section, replace the sample plots by anything you want. </span>\n",
    "</div>"
   ]
  },
  {
   "cell_type": "code",
   "execution_count": 5,
   "metadata": {},
   "outputs": [
    {
     "name": "stdout",
     "output_type": "stream",
     "text": [
      "plankton_feat.name    plankton_test.data       plankton_valid.data\r\n",
      "plankton_label.name   plankton_train.data\r\n",
      "plankton_public.info  plankton_train.solution\r\n"
     ]
    }
   ],
   "source": [
    "#data_dir = 'sample_data'              # Change this to the directory where you put the input data\n",
    "data_dir = 'public_data'          # The sample_data directory should contain only a very small subset of the data\n",
    "data_name = 'plankton'\n",
    "!ls $data_dir*"
   ]
  },
  {
   "cell_type": "markdown",
   "metadata": {},
   "source": [
    "<h3>Two \"feature representation\"</h3>\n",
    "\n",
    "<p>\n",
    "1.\n",
    "All of the images are in various shades of gray. As such, we can represent every image by a vector of 90000 (300x300) features where each feature is a float value between 0 and 255 representing the brightness of a pixel (0 being a black pixel and 255 a white one). It is also possible to reduce the size of the images to reduce the number of features as seen in figure 3 where we reduced the size to 100x100 pixels.\n",
    "</p>"
   ]
  },
  {
   "cell_type": "markdown",
   "metadata": {},
   "source": [
    "<tr>\n",
    "    <td> <img src=\"images/gray.png\" alt=\"Drawing\" style=\"width: 250px;\"/> </td>\n",
    "    <td> <img src=\"images/binarized.png\" alt=\"Drawing\" style=\"width: 250px;\"/> </td>\n",
    "</tr>\n"
   ]
  },
  {
   "cell_type": "markdown",
   "metadata": {},
   "source": [
    "<p>\n",
    "2. At first we will have four types of \"features\". Two \"features\" are applied on the binarized images.\n",
    "    <ul>\n",
    "        <li>The first is a sum of black pixels, per line and per column.\n",
    "This gives us 2 vectors of size 100. These \"features\" are representative among others of the shape of the plankton.\n",
    "For round seeders the ratio between rows and columns near the center of the image should be close.\n",
    "For longer plankton the ratio will be either low or high, depending on plankton position.\n",
    "        </li>\n",
    "        <li>The second is the average of the pixels.\n",
    "            This gives us information on the size of the plankton.\n",
    "        </li>\n",
    "        <li>The third feature is the variance and is applied to non-binarized images.</li>\n",
    "        <li>The last feature is the length of the contour of the plankton. It is obtained by applying a sobel filter on the image. This filter will put black pixels on the contours and white ones everywhere else. We can then just compute the amount of black pixels.\n",
    "    </ul>\n",
    "</p>"
   ]
  },
  {
   "cell_type": "markdown",
   "metadata": {},
   "source": [
    "For convenience, we load the data as a \"pandas\" data frame, so we can use \"pandas\" and \"seaborn\" built in functions to explore the data."
   ]
  },
  {
   "cell_type": "code",
   "execution_count": 6,
   "metadata": {},
   "outputs": [
    {
     "name": "stdout",
     "output_type": "stream",
     "text": [
      "Reading public_data/plankton_train from AutoML format\n",
      "Number of examples = 10752\n",
      "Number of features = 203\n",
      "          Class\n",
      "0  chaetognatha\n",
      "1      copepoda\n",
      "2   euphausiids\n",
      "3   fish_larvae\n",
      "4      limacina\n",
      "5       medusae\n",
      "6         other\n",
      "Number of classes = 7\n"
     ]
    }
   ],
   "source": [
    "from data_io import read_as_df\n",
    "data = read_as_df(data_dir  + '/' + data_name)                # The data are loaded as a Pandas Data Frame"
   ]
  },
  {
   "cell_type": "markdown",
   "metadata": {},
   "source": [
    "This shows the distribution of labels in the training set"
   ]
  },
  {
   "cell_type": "code",
   "execution_count": 7,
   "metadata": {},
   "outputs": [],
   "source": [
    "#data['target'].value_counts()"
   ]
  },
  {
   "cell_type": "markdown",
   "metadata": {},
   "source": [
    "The first rows of the dataset."
   ]
  },
  {
   "cell_type": "code",
   "execution_count": 8,
   "metadata": {},
   "outputs": [
    {
     "data": {
      "text/html": [
       "<div>\n",
       "<style scoped>\n",
       "    .dataframe tbody tr th:only-of-type {\n",
       "        vertical-align: middle;\n",
       "    }\n",
       "\n",
       "    .dataframe tbody tr th {\n",
       "        vertical-align: top;\n",
       "    }\n",
       "\n",
       "    .dataframe thead th {\n",
       "        text-align: right;\n",
       "    }\n",
       "</style>\n",
       "<table border=\"1\" class=\"dataframe\">\n",
       "  <thead>\n",
       "    <tr style=\"text-align: right;\">\n",
       "      <th></th>\n",
       "      <th>sum_axis_0_0</th>\n",
       "      <th>sum_axis_0_1</th>\n",
       "      <th>sum_axis_0_2</th>\n",
       "      <th>sum_axis_0_3</th>\n",
       "      <th>sum_axis_0_4</th>\n",
       "      <th>sum_axis_0_5</th>\n",
       "      <th>sum_axis_0_6</th>\n",
       "      <th>sum_axis_0_7</th>\n",
       "      <th>sum_axis_0_8</th>\n",
       "      <th>sum_axis_0_9</th>\n",
       "      <th>...</th>\n",
       "      <th>sum_axis_1_94</th>\n",
       "      <th>sum_axis_1_95</th>\n",
       "      <th>sum_axis_1_96</th>\n",
       "      <th>sum_axis_1_97</th>\n",
       "      <th>sum_axis_1_98</th>\n",
       "      <th>sum_axis_1_99</th>\n",
       "      <th>mean</th>\n",
       "      <th>variance</th>\n",
       "      <th>outline_length</th>\n",
       "      <th>target</th>\n",
       "    </tr>\n",
       "  </thead>\n",
       "  <tbody>\n",
       "    <tr>\n",
       "      <th>0</th>\n",
       "      <td>1.0</td>\n",
       "      <td>1.0</td>\n",
       "      <td>1.00</td>\n",
       "      <td>1.00</td>\n",
       "      <td>1.00</td>\n",
       "      <td>1.00</td>\n",
       "      <td>1.00</td>\n",
       "      <td>1.00</td>\n",
       "      <td>1.00</td>\n",
       "      <td>1.00</td>\n",
       "      <td>...</td>\n",
       "      <td>0.83871</td>\n",
       "      <td>0.83871</td>\n",
       "      <td>0.827957</td>\n",
       "      <td>0.817204</td>\n",
       "      <td>0.795699</td>\n",
       "      <td>0.774194</td>\n",
       "      <td>0.744560</td>\n",
       "      <td>0.062088</td>\n",
       "      <td>9.82</td>\n",
       "      <td>other</td>\n",
       "    </tr>\n",
       "    <tr>\n",
       "      <th>1</th>\n",
       "      <td>1.0</td>\n",
       "      <td>1.0</td>\n",
       "      <td>1.00</td>\n",
       "      <td>1.00</td>\n",
       "      <td>1.00</td>\n",
       "      <td>1.00</td>\n",
       "      <td>1.00</td>\n",
       "      <td>1.00</td>\n",
       "      <td>1.00</td>\n",
       "      <td>1.00</td>\n",
       "      <td>...</td>\n",
       "      <td>1.00000</td>\n",
       "      <td>1.00000</td>\n",
       "      <td>1.000000</td>\n",
       "      <td>1.000000</td>\n",
       "      <td>1.000000</td>\n",
       "      <td>1.000000</td>\n",
       "      <td>0.852347</td>\n",
       "      <td>0.021939</td>\n",
       "      <td>0.64</td>\n",
       "      <td>other</td>\n",
       "    </tr>\n",
       "    <tr>\n",
       "      <th>2</th>\n",
       "      <td>1.0</td>\n",
       "      <td>1.0</td>\n",
       "      <td>1.00</td>\n",
       "      <td>1.00</td>\n",
       "      <td>1.00</td>\n",
       "      <td>1.00</td>\n",
       "      <td>1.00</td>\n",
       "      <td>1.00</td>\n",
       "      <td>1.00</td>\n",
       "      <td>1.00</td>\n",
       "      <td>...</td>\n",
       "      <td>0.82000</td>\n",
       "      <td>0.90000</td>\n",
       "      <td>1.000000</td>\n",
       "      <td>1.000000</td>\n",
       "      <td>1.000000</td>\n",
       "      <td>1.000000</td>\n",
       "      <td>0.478031</td>\n",
       "      <td>0.130620</td>\n",
       "      <td>6.68</td>\n",
       "      <td>limacina</td>\n",
       "    </tr>\n",
       "    <tr>\n",
       "      <th>3</th>\n",
       "      <td>1.0</td>\n",
       "      <td>1.0</td>\n",
       "      <td>0.99</td>\n",
       "      <td>0.96</td>\n",
       "      <td>0.94</td>\n",
       "      <td>0.94</td>\n",
       "      <td>0.92</td>\n",
       "      <td>0.92</td>\n",
       "      <td>0.92</td>\n",
       "      <td>0.93</td>\n",
       "      <td>...</td>\n",
       "      <td>0.96000</td>\n",
       "      <td>0.99000</td>\n",
       "      <td>1.000000</td>\n",
       "      <td>1.000000</td>\n",
       "      <td>1.000000</td>\n",
       "      <td>1.000000</td>\n",
       "      <td>0.799294</td>\n",
       "      <td>0.037921</td>\n",
       "      <td>6.86</td>\n",
       "      <td>chaetognatha</td>\n",
       "    </tr>\n",
       "    <tr>\n",
       "      <th>4</th>\n",
       "      <td>1.0</td>\n",
       "      <td>1.0</td>\n",
       "      <td>1.00</td>\n",
       "      <td>1.00</td>\n",
       "      <td>1.00</td>\n",
       "      <td>1.00</td>\n",
       "      <td>1.00</td>\n",
       "      <td>1.00</td>\n",
       "      <td>1.00</td>\n",
       "      <td>1.00</td>\n",
       "      <td>...</td>\n",
       "      <td>1.00000</td>\n",
       "      <td>0.99000</td>\n",
       "      <td>0.990000</td>\n",
       "      <td>0.990000</td>\n",
       "      <td>1.000000</td>\n",
       "      <td>1.000000</td>\n",
       "      <td>0.713423</td>\n",
       "      <td>0.065195</td>\n",
       "      <td>11.56</td>\n",
       "      <td>medusae</td>\n",
       "    </tr>\n",
       "  </tbody>\n",
       "</table>\n",
       "<p>5 rows × 204 columns</p>\n",
       "</div>"
      ],
      "text/plain": [
       "   sum_axis_0_0  sum_axis_0_1  sum_axis_0_2  sum_axis_0_3  sum_axis_0_4  \\\n",
       "0           1.0           1.0          1.00          1.00          1.00   \n",
       "1           1.0           1.0          1.00          1.00          1.00   \n",
       "2           1.0           1.0          1.00          1.00          1.00   \n",
       "3           1.0           1.0          0.99          0.96          0.94   \n",
       "4           1.0           1.0          1.00          1.00          1.00   \n",
       "\n",
       "   sum_axis_0_5  sum_axis_0_6  sum_axis_0_7  sum_axis_0_8  sum_axis_0_9  ...  \\\n",
       "0          1.00          1.00          1.00          1.00          1.00  ...   \n",
       "1          1.00          1.00          1.00          1.00          1.00  ...   \n",
       "2          1.00          1.00          1.00          1.00          1.00  ...   \n",
       "3          0.94          0.92          0.92          0.92          0.93  ...   \n",
       "4          1.00          1.00          1.00          1.00          1.00  ...   \n",
       "\n",
       "   sum_axis_1_94  sum_axis_1_95  sum_axis_1_96  sum_axis_1_97  sum_axis_1_98  \\\n",
       "0        0.83871        0.83871       0.827957       0.817204       0.795699   \n",
       "1        1.00000        1.00000       1.000000       1.000000       1.000000   \n",
       "2        0.82000        0.90000       1.000000       1.000000       1.000000   \n",
       "3        0.96000        0.99000       1.000000       1.000000       1.000000   \n",
       "4        1.00000        0.99000       0.990000       0.990000       1.000000   \n",
       "\n",
       "   sum_axis_1_99      mean  variance  outline_length        target  \n",
       "0       0.774194  0.744560  0.062088            9.82         other  \n",
       "1       1.000000  0.852347  0.021939            0.64         other  \n",
       "2       1.000000  0.478031  0.130620            6.68      limacina  \n",
       "3       1.000000  0.799294  0.037921            6.86  chaetognatha  \n",
       "4       1.000000  0.713423  0.065195           11.56       medusae  \n",
       "\n",
       "[5 rows x 204 columns]"
      ]
     },
     "execution_count": 8,
     "metadata": {},
     "output_type": "execute_result"
    }
   ],
   "source": [
    "data.head()"
   ]
  },
  {
   "cell_type": "markdown",
   "metadata": {},
   "source": [
    "Some statistics about the features."
   ]
  },
  {
   "cell_type": "code",
   "execution_count": 9,
   "metadata": {},
   "outputs": [
    {
     "ename": "NameError",
     "evalue": "name 'Y_train' is not defined",
     "output_type": "error",
     "traceback": [
      "\u001b[0;31m---------------------------------------------------------------------------\u001b[0m",
      "\u001b[0;31mNameError\u001b[0m                                 Traceback (most recent call last)",
      "\u001b[0;32m<ipython-input-9-4133b87b1e90>\u001b[0m in \u001b[0;36m<module>\u001b[0;34m\u001b[0m\n\u001b[0;32m----> 1\u001b[0;31m \u001b[0mY_train\u001b[0m\u001b[0;34m\u001b[0m\u001b[0;34m\u001b[0m\u001b[0m\n\u001b[0m",
      "\u001b[0;31mNameError\u001b[0m: name 'Y_train' is not defined"
     ]
    }
   ],
   "source": [
    "Y_train"
   ]
  },
  {
   "cell_type": "code",
   "execution_count": 10,
   "metadata": {},
   "outputs": [],
   "source": [
    "#data[['sum_axis_0_50','sum_axis_1_50','mean','variance', 'outline_length']].hist(figsize=(10, 10), bins=50, layout=(3, 2));"
   ]
  },
  {
   "cell_type": "code",
   "execution_count": 11,
   "metadata": {},
   "outputs": [
    {
     "data": {
      "text/plain": [
       "\"from sklearn import preprocessing\\ndata_target = data.copy()\\nle = preprocessing.LabelEncoder()\\ndata_target.target = le.fit_transform(data_target.target.values)\\nfig = plt.figure(figsize=(15,8))\\nsns.heatmap(data_target[['sum_axis_0_50','sum_axis_1_50','mean','variance','outline_length','target']].corr(), annot = True)\\nplt.title('Correlation_matrix')\\nplt.show()\""
      ]
     },
     "execution_count": 11,
     "metadata": {},
     "output_type": "execute_result"
    }
   ],
   "source": [
    "\"\"\"from sklearn import preprocessing\n",
    "data_target = data.copy()\n",
    "le = preprocessing.LabelEncoder()\n",
    "data_target.target = le.fit_transform(data_target.target.values)\n",
    "fig = plt.figure(figsize=(15,8))\n",
    "sns.heatmap(data_target[['sum_axis_0_50','sum_axis_1_50','mean','variance','outline_length','target']].corr(), annot = True)\n",
    "plt.title('Correlation_matrix')\n",
    "plt.show()\"\"\""
   ]
  },
  {
   "cell_type": "code",
   "execution_count": 12,
   "metadata": {},
   "outputs": [],
   "source": [
    "#sns.pairplot(data,hue='target',vars=['sum_axis_0_50','sum_axis_1_50','mean','variance','outline_length'])\n",
    "#plt.show()"
   ]
  },
  {
   "cell_type": "markdown",
   "metadata": {},
   "source": [
    "<div style=\"background:#FFFFAA\">\n",
    "<h1>Step 2: Building a predictive model</h1>\n",
    "</div>"
   ]
  },
  {
   "cell_type": "markdown",
   "metadata": {},
   "source": [
    "<div style=\"background:#FFFFAA\">\n",
    "    <h2>Loading data with DataManager</h2>\n",
    "    <p>\n",
    "We reload the data with the AutoML DataManager class because this is more convenient:\n",
    "</div>"
   ]
  },
  {
   "cell_type": "code",
   "execution_count": 13,
   "metadata": {},
   "outputs": [
    {
     "name": "stdout",
     "output_type": "stream",
     "text": [
      "Info file found : /home/ramdane/Bureau/PLANKTON/starting_kit/public_data/plankton_public.info\n",
      "DataManager : plankton\n",
      "info:\n",
      "\tusage = Sample dataset plankton data\n",
      "\tname = plankton\n",
      "\ttask = multiclass.classification\n",
      "\ttarget_type = Numerical\n",
      "\tfeat_type = Numerical\n",
      "\tmetric = bac_metric\n",
      "\ttime_budget = 1200\n",
      "\tfeat_num = 202\n",
      "\ttarget_num = 7\n",
      "\tlabel_num = 7\n",
      "\ttrain_num = 10752\n",
      "\tvalid_num = 3584\n",
      "\ttest_num = 3584\n",
      "\thas_categorical = 0\n",
      "\thas_missing = 0\n",
      "\tis_sparse = 0\n",
      "\tformat = dense\n",
      "data:\n",
      "\tX_train = array(10752, 203)\n",
      "\tY_train = array(10752, 1)\n",
      "\tX_valid = array(3584, 203)\n",
      "\tY_valid = array(0,)\n",
      "\tX_test = array(3584, 203)\n",
      "\tY_test = array(0,)\n",
      "feat_type:\tarray(202,)\n",
      "feat_idx:\tarray(0,)\n",
      "\n"
     ]
    }
   ],
   "source": [
    "from data_manager import DataManager\n",
    "D = DataManager(data_name, data_dir, replace_missing=True)\n",
    "print(D)"
   ]
  },
  {
   "cell_type": "markdown",
   "metadata": {},
   "source": [
    "<div style=\"background:#FFFFAA\">\n",
    "    <h2>Training a predictive model</h2>\n",
    "    <p>\n",
    "We provide an example of predictive model (for classification or regression) in the `sample_code_submission/` directory. It is a quite stupid model: it makes constant predictions. Replace it with your own model.\n",
    "    </div>"
   ]
  },
  {
   "cell_type": "code",
   "execution_count": 14,
   "metadata": {},
   "outputs": [],
   "source": [
    "from data_io import write\n",
    "from model import model"
   ]
  },
  {
   "cell_type": "markdown",
   "metadata": {},
   "source": [
    "<div style=\"background:#FFFFAA\">\n",
    "an instance of the model (run the constructor) and attempt to reload a previously saved version from `sample_code_submission/`:\n",
    "    \n",
    "</div>"
   ]
  },
  {
   "cell_type": "code",
   "execution_count": 42,
   "metadata": {},
   "outputs": [],
   "source": [
    "from sklearn.ensemble import ExtraTreesClassifier\n",
    "from sklearn.ensemble import RandomForestClassifier\n",
    "\n",
    "#M = model(  ExtraTreesClassifier (n_estimators=86))\n",
    "#CV score (95 perc. CI): 0.78 (+/- 0.01)\n",
    "#{'random_state': 1, 'n_estimators': 116, 'min_samples_split': 2}\n",
    "\n",
    "\n",
    "M = model(RandomForestClassifier(n_estimators=100, max_depth=None, min_samples_split=2, random_state=0)) \n",
    "#CV score (95 perc. CI): 0.78 (+/- 0.01)\n",
    "#{'random_state': 1, 'n_estimators': 116, 'min_samples_split': 2}\n",
    "\n",
    "\n",
    "trained_model_name = model_dir + data_name\n",
    "\n",
    "# Because we test a lot of model, to not lose time we can reload the last model to make tests faster\n",
    "# Uncomment the next line to re-load an already trained model\n",
    "#M = model()\n",
    "#M = M.load(trained_model_name)                  "
   ]
  },
  {
   "cell_type": "markdown",
   "metadata": {},
   "source": [
    "<div style=\"background:#FFFFAA\">\n",
    "    Train the model (unless you reloaded a trained model) and make predictions. \n",
    "</div>"
   ]
  },
  {
   "cell_type": "code",
   "execution_count": 43,
   "metadata": {
    "scrolled": false
   },
   "outputs": [
    {
     "name": "stdout",
     "output_type": "stream",
     "text": [
      "FIT: dim(X)= [10752, 203]\n",
      "FIT: dim(y)= [10752, 1]\n",
      "training\n"
     ]
    }
   ],
   "source": [
    "X_train = D.data['X_train']\n",
    "Y_train = D.data['Y_train'].ravel()\n",
    "\n",
    "#from sklearn.model_selection import train_test_split\n",
    "seed = 1\n",
    "\n",
    "#X_train, X_valid, Y_train, Y_valid = train_test_split( X_donnees, Y_donnees, test_size=0.33, random_state=seed, stratify=Y_donnees)\n",
    "\n",
    "\n",
    "if not(M.is_trained):\n",
    "    M.fit(X_train, Y_train)\n",
    "    print('training')"
   ]
  },
  {
   "cell_type": "code",
   "execution_count": 44,
   "metadata": {},
   "outputs": [
    {
     "name": "stdout",
     "output_type": "stream",
     "text": [
      "PREDICT: dim(X)= [10752, 203]\n",
      "PREDICT: dim(y)= [10752, 1]\n",
      "PREDICT: dim(X)= [3584, 203]\n",
      "PREDICT: dim(y)= [3584, 1]\n",
      "PREDICT: dim(X)= [3584, 203]\n",
      "PREDICT: dim(y)= [3584, 1]\n"
     ]
    }
   ],
   "source": [
    "Y_hat_train = M.predict(D.data['X_train']) # Optional, not really needed to test on training examples\n",
    "Y_hat_valid = M.predict(D.data['X_valid'])\n",
    "Y_hat_test = M.predict(D.data['X_test'])"
   ]
  },
  {
   "cell_type": "markdown",
   "metadata": {},
   "source": [
    "<div style=\"background:#FFFFAA\">\n",
    "    <b> Save the trained model </b> (will be ready to reload next time around) and save the prediction results. IMPORTANT: if you save the trained model, it will be bundled with your sample code submission. Therefore your model will NOT be retrained on the challenge platform. Remove the pickle from the submission if you want the model to be retrained on the platform.\n",
    "</div>"
   ]
  },
  {
   "cell_type": "code",
   "execution_count": 45,
   "metadata": {},
   "outputs": [
    {
     "name": "stdout",
     "output_type": "stream",
     "text": [
      "sample_result_submission/plankton_test.predict\r\n",
      "sample_result_submission/plankton_train.predict\r\n",
      "sample_result_submission/plankton_valid.predict\r\n"
     ]
    }
   ],
   "source": [
    "M.save(trained_model_name)                 \n",
    "result_name = result_dir + data_name\n",
    "from data_io import write\n",
    "write(result_name + '_train.predict', Y_hat_train)\n",
    "write(result_name + '_valid.predict', Y_hat_valid)\n",
    "write(result_name + '_test.predict', Y_hat_test)\n",
    "!ls $result_name*"
   ]
  },
  {
   "cell_type": "markdown",
   "metadata": {},
   "source": [
    "<div style=\"background:#FFFFAA\">\n",
    "    <h2>Scoring the results</h2>\n",
    "    <h3>Load the challenge metric</h3>\n",
    "    <p>\n",
    "<b>The metric chosen for your challenge</b> is identified in the \"metric.txt\" file found in the `scoring_function/` directory. The function \"get_metric\" searches first for a metric having that name in my_metric.py, then in libscores.py, then in sklearn.metric.\n",
    "    </div>"
   ]
  },
  {
   "cell_type": "markdown",
   "metadata": {},
   "source": [
    "<div style=\"background:#FFFFAA\">\n",
    "The chosen metric is the balanced accuracy. It computes the proportion of elements correctly predicted for each class. It then returns the mean of these values. The advantage of this metric is that every class is given an equal weight. <br> In our case, since all the classes are perfectly balanced, it is equivalent to simply computing the accuracy score but it the case the test set is changed and is no longer balanced, the balanced accuracy will still work properly while the accuracy score will not.\n",
    "</div>"
   ]
  },
  {
   "cell_type": "code",
   "execution_count": 46,
   "metadata": {},
   "outputs": [
    {
     "name": "stdout",
     "output_type": "stream",
     "text": [
      "Using scoring metric: balanced_accuracy_score\n"
     ]
    }
   ],
   "source": [
    "from libscores import get_metric\n",
    "metric_name, scoring_function = get_metric()\n",
    "print('Using scoring metric:', metric_name)\n",
    "# Uncomment the next line to display the code of the scoring metric\n",
    "#??scoring_function"
   ]
  },
  {
   "cell_type": "markdown",
   "metadata": {},
   "source": [
    "<div style=\"background:#FFFFAA\">\n",
    "    <h3> Training performance </h3>\n",
    "    <p>\n",
    "The participants normally posess target values (labels) only for training examples (except for the sample data). We compute with the `example` metric the training score, which should be zero for perfect predictions.\n",
    "        </div>"
   ]
  },
  {
   "cell_type": "code",
   "execution_count": 47,
   "metadata": {},
   "outputs": [
    {
     "name": "stdout",
     "output_type": "stream",
     "text": [
      "Training train score for the balanced_accuracy_score metric = 0.9998\n",
      "Ideal score for the balanced_accuracy_score metric = 1.0000\n"
     ]
    }
   ],
   "source": [
    "print('Training train score for the', metric_name, 'metric = %5.4f' % scoring_function(Y_train, Y_hat_train))\n",
    "print('Ideal score for the', metric_name, 'metric = %5.4f' % scoring_function(Y_train, Y_train))"
   ]
  },
  {
   "cell_type": "markdown",
   "metadata": {},
   "source": [
    "You can add here other scores and result visualization."
   ]
  },
  {
   "cell_type": "code",
   "execution_count": 48,
   "metadata": {
    "scrolled": false
   },
   "outputs": [
    {
     "data": {
      "image/png": "[encoded data removed]",
      "text/plain": [
       "<Figure size 800x800 with 2 Axes>"
      ]
     },
     "metadata": {},
     "output_type": "display_data"
    }
   ],
   "source": [
    "from sklearn.metrics import confusion_matrix\n",
    "import numpy as np\n",
    "import matplotlib.pyplot as plt\n",
    "\n",
    "plt.style.use('default')\n",
    "labels = [\"chaetognatha\",\"copepoda\",\"euphausiids\",\"fish_larvae\",\"limacina\",\"medusae\",\"other\"]\n",
    "cm = confusion_matrix(Y_train, Y_hat_train)\n",
    "cm = cm.astype('float') / cm.sum(axis=1)[:,np.newaxis]\n",
    "fig, ax = plt.subplots(figsize=(8,8))\n",
    "im = ax.imshow(cm, interpolation='nearest',cmap=plt.cm.Blues)\n",
    "ax.figure.colorbar(im, ax=ax)\n",
    "ax.set(xticks=np.arange(cm.shape[1]),yticks=np.arange(cm.shape[0]),xticklabels=labels,yticklabels=labels,title=\"Confusion matrix\",xlabel=\"Predicted label\",ylabel=\"True label\")\n",
    "plt.setp(ax.get_xticklabels(), rotation=45, ha=\"right\", rotation_mode=\"anchor\")\n",
    "fmt = '.2f'\n",
    "thresh = cm.max()/2.\n",
    "for i in range(cm.shape[0]):\n",
    "    for j in range(cm.shape[1]):\n",
    "        ax.text(j, i, format(cm[i, j], fmt),\n",
    "                ha=\"center\", va=\"center\",\n",
    "                color=\"white\" if cm[i, j] > thresh else \"black\")\n",
    "fig.tight_layout()"
   ]
  },
  {
   "cell_type": "markdown",
   "metadata": {},
   "source": [
    "<div style=\"background:#FFFFAA\">\n",
    "    <h3>Cross-validation performance</h3>\n",
    "    <p>\n",
    "The participants do not have access to the labels Y_valid and Y_test to self-assess their validation and test performances. But training performance is not a good prediction of validation or test performance. Using cross-validation, the training data is split into multiple training/test folds, which allows participants to self-assess their model during development. The average CV result and 95% confidence interval is displayed.\n",
    "   </div>"
   ]
  },
  {
   "cell_type": "code",
   "execution_count": 88,
   "metadata": {
    "scrolled": true
   },
   "outputs": [
    {
     "name": "stdout",
     "output_type": "stream",
     "text": [
      "FIT: dim(X)= [8601, 203]\n",
      "FIT: dim(y)= [8601, 1]\n",
      "PREDICT: dim(X)= [2151, 203]\n",
      "PREDICT: dim(y)= [2151, 1]\n",
      "FIT: dim(X)= [8601, 203]\n",
      "FIT: dim(y)= [8601, 1]\n",
      "PREDICT: dim(X)= [2151, 203]\n",
      "PREDICT: dim(y)= [2151, 1]\n",
      "FIT: dim(X)= [8602, 203]\n",
      "FIT: dim(y)= [8602, 1]\n",
      "PREDICT: dim(X)= [2150, 203]\n",
      "PREDICT: dim(y)= [2150, 1]\n",
      "FIT: dim(X)= [8602, 203]\n",
      "FIT: dim(y)= [8602, 1]\n",
      "PREDICT: dim(X)= [2150, 203]\n",
      "PREDICT: dim(y)= [2150, 1]\n",
      "FIT: dim(X)= [8602, 203]\n",
      "FIT: dim(y)= [8602, 1]\n",
      "PREDICT: dim(X)= [2150, 203]\n",
      "PREDICT: dim(y)= [2150, 1]\n",
      "\n",
      "CV score (95 perc. CI): 0.78 (+/- 0.01)\n"
     ]
    }
   ],
   "source": [
    "from sklearn.metrics import make_scorer\n",
    "from sklearn.model_selection import cross_val_score\n",
    "scores = cross_val_score(M, X_train, Y_train, cv=5, scoring=make_scorer(scoring_function))\n",
    "print('\\nCV score (95 perc. CI): %0.2f (+/- %0.2f)' % (scores.mean(), scores.std() * 2))"
   ]
  },
  {
   "cell_type": "code",
   "execution_count": 50,
   "metadata": {},
   "outputs": [
    {
     "name": "stdout",
     "output_type": "stream",
     "text": [
      "0.7776573736195445\n"
     ]
    }
   ],
   "source": [
    "print( (scores.mean())) # extra printing to see the details"
   ]
  },
  {
   "cell_type": "code",
   "execution_count": 51,
   "metadata": {},
   "outputs": [],
   "source": [
    "#??scoring_function"
   ]
  },
  {
   "cell_type": "markdown",
   "metadata": {},
   "source": [
    "# Finding the best model\n",
    "\n",
    "## We define a functon many models and compare the cross-validation and training performance\n",
    "\n",
    "\n",
    "\n",
    "\n",
    "\n",
    "\n"
   ]
  },
  {
   "cell_type": "code",
   "execution_count": 89,
   "metadata": {},
   "outputs": [],
   "source": [
    "def finBest(model_name, model_list):\n",
    "    \n",
    "    \"\"\"\n",
    "    Runs different models with random parameters.\n",
    "    For each model we calculate the cross-valdiation and training performance\n",
    "    \n",
    "    Parameters\n",
    "    ----------\n",
    "    model_name: model's liste\n",
    "    model_list: list of random values for models\n",
    "    \n",
    "    \n",
    "    Returns\n",
    "    ------\n",
    "    C1: model name\n",
    "    C2: cross-validation score\n",
    "    C3: training performance\n",
    "    \n",
    "    \"\"\"\n",
    "\n",
    "    #----------------\n",
    "    from libscores import get_metric\n",
    "    #print('Using scoring metric:', metric_name)\n",
    "    #----------------\n",
    "    \n",
    "    X_donnees = D.data['X_train']\n",
    "    Y_donnees = D.data['Y_train']\n",
    "\n",
    "    c1=[]\n",
    "    c2=[]\n",
    "    c3=[]\n",
    "    \n",
    "    \n",
    "    for i in np.arange(len(model_list)) :\n",
    "\n",
    "        \n",
    "        M = model(classifier=model_list[i])\n",
    "        trained_model_name = model_dir + data_name\n",
    "\n",
    "        if not(M.is_trained):\n",
    "            M.fit(X_train, Y_train)        \n",
    "        \n",
    "        M.save(trained_model_name)                 \n",
    "        result_name = result_dir + data_name\n",
    "        from data_io import write\n",
    "        Y_hat_train = M.predict(D.data['X_train']) # Optional, not really needed to test on training examples\n",
    "        Y_hat_valid = M.predict(D.data['X_valid'])\n",
    "        #write(result_name + '_test.predict', Y_hat_test)\n",
    "        !ls $result_name*\n",
    "        \n",
    "        metric_name, scoring_function = get_metric()\n",
    "        \n",
    "        scores = cross_val_score(M, X_train, Y_train, cv=5, scoring=make_scorer(scoring_function))\n",
    "        \n",
    "        #print('\\nCV score (95 perc. CI): %0.2f (+/- %0.2f)' % (scores.mean(), scores.std() * 2))\n",
    "        \n",
    "        #res.append([model_name[i], scores.mean(), '   metric = %5.4f' % scoring_function(Y_train, Y_hat_train)])\n",
    "        #print('Training score for the', metric_name, 'metric = %5.4f' % scoring_function(Y_train, Y_hat_train))\n",
    "        c1.append(model_name[i])\n",
    "        c2.append(scores.mean())\n",
    "        print(\">>>>>>\", scores)\n",
    "        c3.append(scoring_function(Y_train, Y_hat_train))\n",
    "        \n",
    "        #print('Training train score for the', metric_name, 'metric = %5.4f' % scoring_function(Y_train, Y_hat_train))\n",
    "        #print('Training valid score for the', metric_name, 'metric = %5.4f' % scoring_function(Y_valid, Y_hat_valid))\n",
    "        #print('Ideal score for the', metric_name, 'metric = %5.4f' % scoring_function(Y_train, Y_train))\n",
    "\n",
    "    return c1,c2,c3"
   ]
  },
  {
   "cell_type": "code",
   "execution_count": 90,
   "metadata": {},
   "outputs": [],
   "source": [
    "from sklearn.neural_network import MLPClassifier\n",
    "from sklearn.neighbors import KNeighborsClassifier\n",
    "from sklearn.svm import SVC\n",
    "from sklearn.gaussian_process import GaussianProcessClassifier\n",
    "from sklearn.gaussian_process.kernels import RBF\n",
    "from sklearn.tree import DecisionTreeClassifier\n",
    "from sklearn.ensemble import RandomForestClassifier, AdaBoostClassifier\n",
    "from sklearn.naive_bayes import GaussianNB\n",
    "from sklearn.discriminant_analysis import QuadraticDiscriminantAnalysis\n",
    "from sklearn.ensemble import ExtraTreesClassifier\n",
    "\n",
    "\n",
    "model_name = [\"Nearest Neighbors\",\n",
    "         \"Decision Tree\", \"Random Forest\", \"Neural Net\", \"AdaBoost\",\n",
    "         \"Naive Bayes\", \"QDA\", \"ExtraTreesClassifier\"]\n",
    "model_list = [\n",
    "    KNeighborsClassifier(1),\n",
    "    DecisionTreeClassifier(max_depth=10),\n",
    "    #RandomForestClassifier(max_depth=10, n_estimators=10, max_features=1),\n",
    "    RandomForestClassifier(n_estimators=116, max_depth=None, min_samples_split=2, random_state=1),\n",
    "    MLPClassifier(alpha=1, max_iter=1000),\n",
    "    AdaBoostClassifier(),\n",
    "    GaussianNB(),\n",
    "    QuadraticDiscriminantAnalysis(),\n",
    "    ExtraTreesClassifier()\n",
    "]"
   ]
  },
  {
   "cell_type": "code",
   "execution_count": 91,
   "metadata": {},
   "outputs": [],
   "source": [
    "from sklearn.model_selection import train_test_split\n",
    "\n",
    "from data_io import write\n",
    "from model import model\n",
    "\n",
    "from data_io import write\n",
    "\n",
    "from libscores import get_metric\n",
    "\n",
    "from sklearn.metrics import confusion_matrix\n",
    "import numpy as np\n",
    "import matplotlib.pyplot as plt\n",
    "\n",
    "from sklearn.metrics import make_scorer\n",
    "from sklearn.model_selection import cross_val_score"
   ]
  },
  {
   "cell_type": "code",
   "execution_count": 92,
   "metadata": {
    "scrolled": true
   },
   "outputs": [
    {
     "name": "stdout",
     "output_type": "stream",
     "text": [
      "FIT: dim(X)= [10752, 203]\n",
      "FIT: dim(y)= [10752, 1]\n",
      "PREDICT: dim(X)= [10752, 203]\n",
      "PREDICT: dim(y)= [10752, 1]\n",
      "PREDICT: dim(X)= [3584, 203]\n",
      "PREDICT: dim(y)= [3584, 1]\n",
      "sample_result_submission/plankton_test.predict\n",
      "sample_result_submission/plankton_train.predict\n",
      "sample_result_submission/plankton_valid.predict\n",
      "FIT: dim(X)= [8601, 203]\n",
      "FIT: dim(y)= [8601, 1]\n",
      "PREDICT: dim(X)= [2151, 203]\n",
      "PREDICT: dim(y)= [2151, 1]\n",
      "FIT: dim(X)= [8601, 203]\n",
      "FIT: dim(y)= [8601, 1]\n",
      "PREDICT: dim(X)= [2151, 203]\n",
      "PREDICT: dim(y)= [2151, 1]\n",
      "FIT: dim(X)= [8602, 203]\n",
      "FIT: dim(y)= [8602, 1]\n",
      "PREDICT: dim(X)= [2150, 203]\n",
      "PREDICT: dim(y)= [2150, 1]\n",
      "FIT: dim(X)= [8602, 203]\n",
      "FIT: dim(y)= [8602, 1]\n",
      "PREDICT: dim(X)= [2150, 203]\n",
      "PREDICT: dim(y)= [2150, 1]\n",
      "FIT: dim(X)= [8602, 203]\n",
      "FIT: dim(y)= [8602, 1]\n",
      "PREDICT: dim(X)= [2150, 203]\n",
      "PREDICT: dim(y)= [2150, 1]\n",
      ">>>>>> [0.69575494 0.70545434 0.71452742 0.72274168 0.70557054]\n",
      "FIT: dim(X)= [10752, 203]\n",
      "FIT: dim(y)= [10752, 1]\n",
      "PREDICT: dim(X)= [10752, 203]\n",
      "PREDICT: dim(y)= [10752, 1]\n",
      "PREDICT: dim(X)= [3584, 203]\n",
      "PREDICT: dim(y)= [3584, 1]\n",
      "sample_result_submission/plankton_test.predict\n",
      "sample_result_submission/plankton_train.predict\n",
      "sample_result_submission/plankton_valid.predict\n",
      "FIT: dim(X)= [8601, 203]\n",
      "FIT: dim(y)= [8601, 1]\n",
      "PREDICT: dim(X)= [2151, 203]\n",
      "PREDICT: dim(y)= [2151, 1]\n",
      "FIT: dim(X)= [8601, 203]\n",
      "FIT: dim(y)= [8601, 1]\n",
      "PREDICT: dim(X)= [2151, 203]\n",
      "PREDICT: dim(y)= [2151, 1]\n",
      "FIT: dim(X)= [8602, 203]\n",
      "FIT: dim(y)= [8602, 1]\n",
      "PREDICT: dim(X)= [2150, 203]\n",
      "PREDICT: dim(y)= [2150, 1]\n",
      "FIT: dim(X)= [8602, 203]\n",
      "FIT: dim(y)= [8602, 1]\n",
      "PREDICT: dim(X)= [2150, 203]\n",
      "PREDICT: dim(y)= [2150, 1]\n",
      "FIT: dim(X)= [8602, 203]\n",
      "FIT: dim(y)= [8602, 1]\n",
      "PREDICT: dim(X)= [2150, 203]\n",
      "PREDICT: dim(y)= [2150, 1]\n",
      ">>>>>> [0.59676154 0.61305166 0.62796239 0.60923939 0.62167454]\n",
      "FIT: dim(X)= [10752, 203]\n",
      "FIT: dim(y)= [10752, 1]\n",
      "PREDICT: dim(X)= [10752, 203]\n",
      "PREDICT: dim(y)= [10752, 1]\n",
      "PREDICT: dim(X)= [3584, 203]\n",
      "PREDICT: dim(y)= [3584, 1]\n",
      "sample_result_submission/plankton_test.predict\n",
      "sample_result_submission/plankton_train.predict\n",
      "sample_result_submission/plankton_valid.predict\n",
      "FIT: dim(X)= [8601, 203]\n",
      "FIT: dim(y)= [8601, 1]\n",
      "PREDICT: dim(X)= [2151, 203]\n",
      "PREDICT: dim(y)= [2151, 1]\n",
      "FIT: dim(X)= [8601, 203]\n",
      "FIT: dim(y)= [8601, 1]\n",
      "PREDICT: dim(X)= [2151, 203]\n",
      "PREDICT: dim(y)= [2151, 1]\n",
      "FIT: dim(X)= [8602, 203]\n",
      "FIT: dim(y)= [8602, 1]\n",
      "PREDICT: dim(X)= [2150, 203]\n",
      "PREDICT: dim(y)= [2150, 1]\n",
      "FIT: dim(X)= [8602, 203]\n",
      "FIT: dim(y)= [8602, 1]\n",
      "PREDICT: dim(X)= [2150, 203]\n",
      "PREDICT: dim(y)= [2150, 1]\n",
      "FIT: dim(X)= [8602, 203]\n",
      "FIT: dim(y)= [8602, 1]\n",
      "PREDICT: dim(X)= [2150, 203]\n",
      "PREDICT: dim(y)= [2150, 1]\n",
      ">>>>>> [0.78098447 0.78307049 0.78443529 0.77791377 0.77132207]\n",
      "FIT: dim(X)= [10752, 203]\n",
      "FIT: dim(y)= [10752, 1]\n",
      "PREDICT: dim(X)= [10752, 203]\n",
      "PREDICT: dim(y)= [10752, 1]\n",
      "PREDICT: dim(X)= [3584, 203]\n",
      "PREDICT: dim(y)= [3584, 1]\n",
      "sample_result_submission/plankton_test.predict\n",
      "sample_result_submission/plankton_train.predict\n",
      "sample_result_submission/plankton_valid.predict\n",
      "FIT: dim(X)= [8601, 203]\n",
      "FIT: dim(y)= [8601, 1]\n",
      "PREDICT: dim(X)= [2151, 203]\n",
      "PREDICT: dim(y)= [2151, 1]\n",
      "FIT: dim(X)= [8601, 203]\n",
      "FIT: dim(y)= [8601, 1]\n",
      "PREDICT: dim(X)= [2151, 203]\n",
      "PREDICT: dim(y)= [2151, 1]\n",
      "FIT: dim(X)= [8602, 203]\n",
      "FIT: dim(y)= [8602, 1]\n",
      "PREDICT: dim(X)= [2150, 203]\n",
      "PREDICT: dim(y)= [2150, 1]\n",
      "FIT: dim(X)= [8602, 203]\n",
      "FIT: dim(y)= [8602, 1]\n",
      "PREDICT: dim(X)= [2150, 203]\n",
      "PREDICT: dim(y)= [2150, 1]\n",
      "FIT: dim(X)= [8602, 203]\n",
      "FIT: dim(y)= [8602, 1]\n",
      "PREDICT: dim(X)= [2150, 203]\n",
      "PREDICT: dim(y)= [2150, 1]\n",
      ">>>>>> [0.5070895  0.53035863 0.54565168 0.54532026 0.50430704]\n",
      "FIT: dim(X)= [10752, 203]\n",
      "FIT: dim(y)= [10752, 1]\n",
      "PREDICT: dim(X)= [10752, 203]\n",
      "PREDICT: dim(y)= [10752, 1]\n",
      "PREDICT: dim(X)= [3584, 203]\n",
      "PREDICT: dim(y)= [3584, 1]\n",
      "sample_result_submission/plankton_test.predict\n",
      "sample_result_submission/plankton_train.predict\n",
      "sample_result_submission/plankton_valid.predict\n",
      "FIT: dim(X)= [8601, 203]\n",
      "FIT: dim(y)= [8601, 1]\n",
      "PREDICT: dim(X)= [2151, 203]\n",
      "PREDICT: dim(y)= [2151, 1]\n",
      "FIT: dim(X)= [8601, 203]\n",
      "FIT: dim(y)= [8601, 1]\n",
      "PREDICT: dim(X)= [2151, 203]\n",
      "PREDICT: dim(y)= [2151, 1]\n",
      "FIT: dim(X)= [8602, 203]\n",
      "FIT: dim(y)= [8602, 1]\n",
      "PREDICT: dim(X)= [2150, 203]\n",
      "PREDICT: dim(y)= [2150, 1]\n",
      "FIT: dim(X)= [8602, 203]\n",
      "FIT: dim(y)= [8602, 1]\n",
      "PREDICT: dim(X)= [2150, 203]\n",
      "PREDICT: dim(y)= [2150, 1]\n",
      "FIT: dim(X)= [8602, 203]\n",
      "FIT: dim(y)= [8602, 1]\n",
      "PREDICT: dim(X)= [2150, 203]\n",
      "PREDICT: dim(y)= [2150, 1]\n",
      ">>>>>> [0.40754108 0.372463   0.4292106  0.40023182 0.41066621]\n",
      "FIT: dim(X)= [10752, 203]\n",
      "FIT: dim(y)= [10752, 1]\n",
      "PREDICT: dim(X)= [10752, 203]\n",
      "PREDICT: dim(y)= [10752, 1]\n",
      "PREDICT: dim(X)= [3584, 203]\n",
      "PREDICT: dim(y)= [3584, 1]\n",
      "sample_result_submission/plankton_test.predict\n",
      "sample_result_submission/plankton_train.predict\n",
      "sample_result_submission/plankton_valid.predict\n",
      "FIT: dim(X)= [8601, 203]\n",
      "FIT: dim(y)= [8601, 1]\n",
      "PREDICT: dim(X)= [2151, 203]\n",
      "PREDICT: dim(y)= [2151, 1]\n",
      "FIT: dim(X)= [8601, 203]\n",
      "FIT: dim(y)= [8601, 1]\n",
      "PREDICT: dim(X)= [2151, 203]\n",
      "PREDICT: dim(y)= [2151, 1]\n",
      "FIT: dim(X)= [8602, 203]\n",
      "FIT: dim(y)= [8602, 1]\n",
      "PREDICT: dim(X)= [2150, 203]\n",
      "PREDICT: dim(y)= [2150, 1]\n",
      "FIT: dim(X)= [8602, 203]\n",
      "FIT: dim(y)= [8602, 1]\n",
      "PREDICT: dim(X)= [2150, 203]\n",
      "PREDICT: dim(y)= [2150, 1]\n",
      "FIT: dim(X)= [8602, 203]\n",
      "FIT: dim(y)= [8602, 1]\n",
      "PREDICT: dim(X)= [2150, 203]\n",
      "PREDICT: dim(y)= [2150, 1]\n",
      ">>>>>> [0.41078506 0.43100575 0.42449631 0.43301452 0.45906724]\n",
      "FIT: dim(X)= [10752, 203]\n",
      "FIT: dim(y)= [10752, 1]\n",
      "PREDICT: dim(X)= [10752, 203]\n",
      "PREDICT: dim(y)= [10752, 1]\n",
      "PREDICT: dim(X)= [3584, 203]\n",
      "PREDICT: dim(y)= [3584, 1]\n",
      "sample_result_submission/plankton_test.predict\n",
      "sample_result_submission/plankton_train.predict\n",
      "sample_result_submission/plankton_valid.predict\n",
      "FIT: dim(X)= [8601, 203]\n",
      "FIT: dim(y)= [8601, 1]\n",
      "PREDICT: dim(X)= [2151, 203]\n",
      "PREDICT: dim(y)= [2151, 1]\n",
      "FIT: dim(X)= [8601, 203]\n",
      "FIT: dim(y)= [8601, 1]\n",
      "PREDICT: dim(X)= [2151, 203]\n",
      "PREDICT: dim(y)= [2151, 1]\n",
      "FIT: dim(X)= [8602, 203]\n",
      "FIT: dim(y)= [8602, 1]\n",
      "PREDICT: dim(X)= [2150, 203]\n",
      "PREDICT: dim(y)= [2150, 1]\n",
      "FIT: dim(X)= [8602, 203]\n",
      "FIT: dim(y)= [8602, 1]\n",
      "PREDICT: dim(X)= [2150, 203]\n",
      "PREDICT: dim(y)= [2150, 1]\n",
      "FIT: dim(X)= [8602, 203]\n",
      "FIT: dim(y)= [8602, 1]\n",
      "PREDICT: dim(X)= [2150, 203]\n",
      "PREDICT: dim(y)= [2150, 1]\n",
      ">>>>>> [0.45697574 0.469565   0.46006296 0.45655348 0.4582547 ]\n",
      "FIT: dim(X)= [10752, 203]\n",
      "FIT: dim(y)= [10752, 1]\n",
      "PREDICT: dim(X)= [10752, 203]\n",
      "PREDICT: dim(y)= [10752, 1]\n",
      "PREDICT: dim(X)= [3584, 203]\n",
      "PREDICT: dim(y)= [3584, 1]\n",
      "sample_result_submission/plankton_test.predict\n",
      "sample_result_submission/plankton_train.predict\n",
      "sample_result_submission/plankton_valid.predict\n",
      "FIT: dim(X)= [8601, 203]\n",
      "FIT: dim(y)= [8601, 1]\n",
      "PREDICT: dim(X)= [2151, 203]\n",
      "PREDICT: dim(y)= [2151, 1]\n",
      "FIT: dim(X)= [8601, 203]\n",
      "FIT: dim(y)= [8601, 1]\n",
      "PREDICT: dim(X)= [2151, 203]\n",
      "PREDICT: dim(y)= [2151, 1]\n",
      "FIT: dim(X)= [8602, 203]\n",
      "FIT: dim(y)= [8602, 1]\n",
      "PREDICT: dim(X)= [2150, 203]\n",
      "PREDICT: dim(y)= [2150, 1]\n",
      "FIT: dim(X)= [8602, 203]\n",
      "FIT: dim(y)= [8602, 1]\n",
      "PREDICT: dim(X)= [2150, 203]\n",
      "PREDICT: dim(y)= [2150, 1]\n",
      "FIT: dim(X)= [8602, 203]\n",
      "FIT: dim(y)= [8602, 1]\n",
      "PREDICT: dim(X)= [2150, 203]\n",
      "PREDICT: dim(y)= [2150, 1]\n",
      ">>>>>> [0.78047326 0.77738038 0.78670943 0.78416485 0.7814958 ]\n"
     ]
    }
   ],
   "source": [
    "\"\"\"\n",
    "model_name = [\"rf1\", \"ExtraTreesClassifier\", \"Random Forest\"]\n",
    "model_list = [\n",
    "    RandomForestClassifier(n_estimators=100, max_depth=None, min_samples_split=2, random_state=0),\n",
    "    ExtraTreesClassifier(n_estimators=2),\n",
    "    RandomForestClassifier(n_estimators=2, max_depth=None, min_samples_split=2, random_state=1),\n",
    "]\"\"\"\n",
    "\n",
    "res1, res2, res3 = finBest(model_name, model_list)"
   ]
  },
  {
   "cell_type": "code",
   "execution_count": 93,
   "metadata": {},
   "outputs": [
    {
     "data": {
      "text/html": [
       "<div>\n",
       "<style scoped>\n",
       "    .dataframe tbody tr th:only-of-type {\n",
       "        vertical-align: middle;\n",
       "    }\n",
       "\n",
       "    .dataframe tbody tr th {\n",
       "        vertical-align: top;\n",
       "    }\n",
       "\n",
       "    .dataframe thead th {\n",
       "        text-align: right;\n",
       "    }\n",
       "</style>\n",
       "<table border=\"1\" class=\"dataframe\">\n",
       "  <thead>\n",
       "    <tr style=\"text-align: right;\">\n",
       "      <th></th>\n",
       "      <th>Model</th>\n",
       "      <th>Cross-Validation</th>\n",
       "      <th>train</th>\n",
       "    </tr>\n",
       "  </thead>\n",
       "  <tbody>\n",
       "    <tr>\n",
       "      <th>0</th>\n",
       "      <td>Nearest Neighbors</td>\n",
       "      <td>0.708810</td>\n",
       "      <td>0.999814</td>\n",
       "    </tr>\n",
       "    <tr>\n",
       "      <th>1</th>\n",
       "      <td>Decision Tree</td>\n",
       "      <td>0.613738</td>\n",
       "      <td>0.726749</td>\n",
       "    </tr>\n",
       "    <tr>\n",
       "      <th>2</th>\n",
       "      <td>Random Forest</td>\n",
       "      <td>0.779545</td>\n",
       "      <td>0.999814</td>\n",
       "    </tr>\n",
       "    <tr>\n",
       "      <th>3</th>\n",
       "      <td>Neural Net</td>\n",
       "      <td>0.526545</td>\n",
       "      <td>0.610491</td>\n",
       "    </tr>\n",
       "    <tr>\n",
       "      <th>4</th>\n",
       "      <td>AdaBoost</td>\n",
       "      <td>0.404023</td>\n",
       "      <td>0.426990</td>\n",
       "    </tr>\n",
       "    <tr>\n",
       "      <th>5</th>\n",
       "      <td>Naive Bayes</td>\n",
       "      <td>0.431674</td>\n",
       "      <td>0.437500</td>\n",
       "    </tr>\n",
       "    <tr>\n",
       "      <th>6</th>\n",
       "      <td>QDA</td>\n",
       "      <td>0.460282</td>\n",
       "      <td>0.606585</td>\n",
       "    </tr>\n",
       "    <tr>\n",
       "      <th>7</th>\n",
       "      <td>ExtraTreesClassifier</td>\n",
       "      <td>0.782045</td>\n",
       "      <td>0.999814</td>\n",
       "    </tr>\n",
       "  </tbody>\n",
       "</table>\n",
       "</div>"
      ],
      "text/plain": [
       "                 Model   Cross-Validation     train \n",
       "0     Nearest Neighbors           0.708810  0.999814\n",
       "1         Decision Tree           0.613738  0.726749\n",
       "2         Random Forest           0.779545  0.999814\n",
       "3            Neural Net           0.526545  0.610491\n",
       "4              AdaBoost           0.404023  0.426990\n",
       "5           Naive Bayes           0.431674  0.437500\n",
       "6                   QDA           0.460282  0.606585\n",
       "7  ExtraTreesClassifier           0.782045  0.999814"
      ]
     },
     "execution_count": 93,
     "metadata": {},
     "output_type": "execute_result"
    }
   ],
   "source": [
    "#affiche_models(res.append(res1,res2,res3)) # comment we use panda to display a proper table\n",
    "frame = pd.DataFrame(\n",
    "    {\n",
    "                    \"Model \" : res1,\n",
    "                    \"Cross-Validation \": res2,\n",
    "                    \"train \": res3,\n",
    "    }\n",
    ")\n",
    "\n",
    "frame"
   ]
  },
  {
   "cell_type": "code",
   "execution_count": 95,
   "metadata": {},
   "outputs": [
    {
     "data": {
      "text/plain": [
       "module"
      ]
     },
     "execution_count": 95,
     "metadata": {},
     "output_type": "execute_result"
    },
    {
     "data": {
      "image/png": "[encoded data removed]",
      "text/plain": [
       "<Figure size 640x480 with 1 Axes>"
      ]
     },
     "metadata": {},
     "output_type": "display_data"
    }
   ],
   "source": [
    "from sklearn.metrics import balanced_accuracy_score as sklearn_metric\n",
    "\n",
    "frame[['Cross-Validation ', 'train ']].plot.bar()\n",
    "#plt.ylim(0.5, 1)\n",
    "plt.ylabel(sklearn_metric.__name__)\n",
    "\n",
    "type(plt)"
   ]
  },
  {
   "cell_type": "markdown",
   "metadata": {},
   "source": [
    "## sklearn.ensemble.RandomForestClassifier:\n",
    "The two best models are ExtraTreesCLassieer and RandomForest because they have th best CV score far away the other models, they look over-fitted because of the differnece between the train and the valid data. \n",
    "\n",
    "### Sometimes I have the same metric between train and valid for the two models, maybe it is because of the seed ?? I can't conclude right now, I am going to ask the teacher next Friday.\n",
    "\n",
    "### ==> IS THERE A PROBLEME ???? But after many tests the two best model are still ExtraTreesCLassieer and RandomForest\n",
    "\n",
    "### In conclusion of these probleme is that we find that the data are the problem, what ever we do we always overfit. To fix this this probleme, we look at the CV and the valid column to select the best model. So we can say that the best model is the Random forest. It is a real problem because we can't find the best parameters, even when we use RandomizedSearchCV below. I have tryed to fix probleme with using one global seed. "
   ]
  },
  {
   "cell_type": "markdown",
   "metadata": {},
   "source": [
    "# We now use scikit functions to find the best parameters for the best model\n",
    "\n",
    "## sklearn.ensemble.RandomForestClassifier:\n",
    "\n",
    "Advantages of RandomForestClassifier:\n",
    " - the algorithm is not biased beceause it looks at the entirety of the data\n",
    " - the algorithm is stable because it not affect it when new data is intoduced, especially when the new data affects one tree in particular\n",
    " - works well with data that isn't scaled\n",
    "\n",
    "Disadvantages of using RandomForestClassifier:\n",
    "- Complexity, but in our case we do not use big data (>100k)\n",
    "- take much more more time beceause of the complexity\n",
    "\n",
    "The parameters:\n",
    "- n_estimators: represents the number of trees in the forest. Usually higher number of trees improve the conditions to learn on the data. However, adding a lot of trees can slow down the training process considerably. Therefore we do a parameter search to find the sweet spot, with RandomizedSearchCV for instance.\n",
    "- max_depth: represents the depth of each tree in the forest. The deeper the  tree, the more \"splitted\" it becomes and the more information about the data it captures. max_depth equals None means nodes are expanded until all leaves are pure or until all leaves contain less than min_samples_split samples.\n",
    "- min_samples_split: represents the minimum number of samples required to split an internal node. This can vary from one sample per node to all the samples for each node. When we increase this parameter, each tree in the forest becomes more constrained as it has to consider more samples for each node.\n",
    "- min_samples_leaf: the minimum number of samples required to be at a leaf node. This parameter is similar to min_samples_splits, however it describes the minimum number of samples at the leaves, the base of the tree.\n",
    "\n",
    "\n",
    "Over-fitting:\n",
    "- over-fitting occurs when the model has good performance (scores) on the training data but not on the valid data\n",
    "\n",
    "Under-fitting:\n",
    "- iunder-fitting occurs when the model does not have good performances (scores) on the training and valid data\n",
    "\n",
    "\n",
    "If we run tests with ExtraTreesCLassifier, the CV score is the same as Random Forest. We read that the algorithms are very similar and this is also maybe because extreme trees seem to keep a higher performance in presence of noisy features (like the seventh class for example). We can also see that they have the same parameters (the ones shown above). I left the tests down below."
   ]
  },
  {
   "cell_type": "code",
   "execution_count": 296,
   "metadata": {},
   "outputs": [
    {
     "data": {
      "text/plain": [
       "(7203, 203)"
      ]
     },
     "execution_count": 296,
     "metadata": {},
     "output_type": "execute_result"
    }
   ],
   "source": [
    "X_train.shape"
   ]
  },
  {
   "cell_type": "code",
   "execution_count": 64,
   "metadata": {},
   "outputs": [],
   "source": [
    "from sklearn.linear_model import LogisticRegression\n",
    "from sklearn.model_selection import RandomizedSearchCV\n",
    "from scipy.stats import uniform\n",
    "\n",
    "def best_param_MODEL(logistic, distributions): \n",
    "    \"\"\"\n",
    "    This function finds the best parameters for the RandomizedSearchCV model and returns the best parameters\n",
    "    \n",
    "    Parameters\n",
    "    ----------\n",
    "    logistic: model's name\n",
    "    distributions: dictionary of the different parameters of the model that will be tested\n",
    "\n",
    "\n",
    "    Returns\n",
    "    ------\n",
    "    search: the best parameters\n",
    "\n",
    "    \"\"\"\n",
    "    metric_name, scoring_function = get_metric()\n",
    "\n",
    "    clf = RandomizedSearchCV(logistic, distributions, random_state=0, scoring=make_scorer(scoring_function) )\n",
    "    search = clf.fit(X_train, Y_train)\n",
    "    search.best_params_\n",
    "    return search"
   ]
  },
  {
   "cell_type": "code",
   "execution_count": 65,
   "metadata": {},
   "outputs": [
    {
     "data": {
      "text/plain": [
       "\"\\n#KNeighborsClassifier\\nlogistic = KNeighborsClassifier(7)\\ndistributions = dict(n_neighbors=np.arange(0,10), algorithm=['auto', 'ball_tree', 'kd_tree', 'brute'])\\n\\n#ExtraTreesClassifier\\nlogistic = ExtraTreesClassifier()\\ndistributions = dict(n_estimators=np.arange(0,100))\""
      ]
     },
     "execution_count": 65,
     "metadata": {},
     "output_type": "execute_result"
    }
   ],
   "source": [
    "#RandomForestClassifier\n",
    "logistic = RandomForestClassifier()\n",
    "# first tests\n",
    "#distributions = dict( n_estimators=np.arange(0,200) , min_samples_split=[0,1,2],random_state=np.arange(0,20,1), min_samples_leaf=np.arange(0,20,1) )\n",
    "#{'random_state': 19, 'n_estimators': 196, 'min_samples_split': 2, 'min_samples_leaf': 7} \n",
    "# bad results\n",
    "\n",
    "distributions = dict( n_estimators=np.arange(10,200) , min_samples_split=[2],random_state=[0,1,2] )\n",
    "# best results when we don't use min_samples_leaf et set it as default parameters\n",
    "\n",
    "\n",
    "\n",
    "\n",
    "\"\"\"\n",
    "#KNeighborsClassifier\n",
    "logistic = KNeighborsClassifier(7)\n",
    "distributions = dict(n_neighbors=np.arange(0,10), algorithm=['auto', 'ball_tree', 'kd_tree', 'brute'])\n",
    "\n",
    "#ExtraTreesClassifier\n",
    "logistic = ExtraTreesClassifier()\n",
    "distributions = dict(n_estimators=np.arange(0,100))\"\"\""
   ]
  },
  {
   "cell_type": "code",
   "execution_count": 66,
   "metadata": {
    "scrolled": true
   },
   "outputs": [
    {
     "data": {
      "text/plain": [
       "{'random_state': 2, 'n_estimators': 125, 'min_samples_split': 2}"
      ]
     },
     "execution_count": 66,
     "metadata": {},
     "output_type": "execute_result"
    }
   ],
   "source": [
    "search = best_param_MODEL(logistic, distributions)\n",
    "\n",
    "search.best_params_"
   ]
  },
  {
   "cell_type": "code",
   "execution_count": 67,
   "metadata": {},
   "outputs": [
    {
     "data": {
      "text/plain": [
       "{'mean_fit_time': array([2.69830647, 3.53978047, 1.90275998, 5.92501073, 0.80628958,\n",
       "        6.5052474 , 5.17329149, 5.67289438, 4.6055171 , 4.05586224]),\n",
       " 'std_fit_time': array([0.01807194, 0.06569419, 0.01507836, 0.08538824, 0.01297481,\n",
       "        0.13886906, 0.06010731, 0.11917282, 0.07206305, 0.12338339]),\n",
       " 'mean_score_time': array([0.02919884, 0.0364789 , 0.02085547, 0.06300497, 0.00997977,\n",
       "        0.06793308, 0.05612216, 0.05976524, 0.04796371, 0.04178696]),\n",
       " 'std_score_time': array([0.00202381, 0.00109536, 0.00019857, 0.00412225, 0.00017412,\n",
       "        0.00250487, 0.00486065, 0.00257712, 0.00275986, 0.00144386]),\n",
       " 'param_random_state': masked_array(data=[1, 0, 0, 0, 1, 0, 0, 0, 2, 2],\n",
       "              mask=[False, False, False, False, False, False, False, False,\n",
       "                    False, False],\n",
       "        fill_value='?',\n",
       "             dtype=object),\n",
       " 'param_n_estimators': masked_array(data=[75, 97, 54, 166, 22, 182, 138, 153, 125, 112],\n",
       "              mask=[False, False, False, False, False, False, False, False,\n",
       "                    False, False],\n",
       "        fill_value='?',\n",
       "             dtype=object),\n",
       " 'param_min_samples_split': masked_array(data=[2, 2, 2, 2, 2, 2, 2, 2, 2, 2],\n",
       "              mask=[False, False, False, False, False, False, False, False,\n",
       "                    False, False],\n",
       "        fill_value='?',\n",
       "             dtype=object),\n",
       " 'params': [{'random_state': 1, 'n_estimators': 75, 'min_samples_split': 2},\n",
       "  {'random_state': 0, 'n_estimators': 97, 'min_samples_split': 2},\n",
       "  {'random_state': 0, 'n_estimators': 54, 'min_samples_split': 2},\n",
       "  {'random_state': 0, 'n_estimators': 166, 'min_samples_split': 2},\n",
       "  {'random_state': 1, 'n_estimators': 22, 'min_samples_split': 2},\n",
       "  {'random_state': 0, 'n_estimators': 182, 'min_samples_split': 2},\n",
       "  {'random_state': 0, 'n_estimators': 138, 'min_samples_split': 2},\n",
       "  {'random_state': 0, 'n_estimators': 153, 'min_samples_split': 2},\n",
       "  {'random_state': 2, 'n_estimators': 125, 'min_samples_split': 2},\n",
       "  {'random_state': 2, 'n_estimators': 112, 'min_samples_split': 2}],\n",
       " 'split0_test_score': array([0.77694397, 0.77788068, 0.76996851, 0.77740326, 0.74393557,\n",
       "        0.77926761, 0.77368815, 0.77879624, 0.78761792, 0.78622796]),\n",
       " 'split1_test_score': array([0.78184205, 0.78090837, 0.76183577, 0.78322899, 0.74369081,\n",
       "        0.78230436, 0.77997166, 0.77997317, 0.78370187, 0.7823089 ]),\n",
       " 'split2_test_score': array([0.7939407 , 0.78185414, 0.77021478, 0.78185263, 0.76324234,\n",
       "        0.78092498, 0.7841808 , 0.7799913 , 0.78510996, 0.78324863]),\n",
       " 'split3_test_score': array([0.7777024 , 0.7753833 , 0.77490739, 0.77770089, 0.74517142,\n",
       "        0.77584107, 0.78188587, 0.77537423, 0.7790984 , 0.77491343]),\n",
       " 'split4_test_score': array([0.77674001, 0.77069371, 0.75907248, 0.77953201, 0.73909037,\n",
       "        0.77860285, 0.7781345 , 0.77581086, 0.77581992, 0.77163042]),\n",
       " 'mean_test_score': array([0.78143383, 0.77734404, 0.76719978, 0.77994356, 0.7470261 ,\n",
       "        0.77938818, 0.7795722 , 0.77798916, 0.78226961, 0.77966587]),\n",
       " 'std_test_score': array([0.00652231, 0.00403497, 0.00584789, 0.00228432, 0.00836729,\n",
       "        0.0021945 , 0.00356204, 0.00200893, 0.00425155, 0.0054779 ]),\n",
       " 'rank_test_score': array([ 2,  8,  9,  3, 10,  6,  5,  7,  1,  4], dtype=int32)}"
      ]
     },
     "execution_count": 67,
     "metadata": {},
     "output_type": "execute_result"
    }
   ],
   "source": [
    "search.cv_results_"
   ]
  },
  {
   "cell_type": "markdown",
   "metadata": {},
   "source": [
    "# We tyred this, but it stills overfit ..."
   ]
  },
  {
   "cell_type": "code",
   "execution_count": 96,
   "metadata": {},
   "outputs": [],
   "source": [
    "def doBestModel(Model_final):\n",
    "    \"\"\"\n",
    "    Runs the final model with best parameters \n",
    "    We then calculate the cross-validation and training performance    \n",
    "    \n",
    "    ----------\n",
    "    Model_final: the best model with the best parameters\n",
    "\n",
    "\n",
    "    Void\n",
    "    ------\n",
    "    show the CV score\n",
    "\n",
    "    \"\"\"\n",
    "\n",
    "    M = Model_final\n",
    "    if not(M.is_trained):\n",
    "        M.fit(X_train, Y_train)\n",
    "        \n",
    "    trained_model_name = model_dir + data_name\n",
    "\n",
    "    #Y_hat_train = M.predict(D.data['X_train']) # Optional, not really needed to test on training examples\n",
    "    Y_hat_train = M.predict(D.data['X_train']) # Optional, not really needed to test on training examples\n",
    "    Y_hat_valid = M.predict(D.data['X_valid'])\n",
    "    Y_hat_test = M.predict(D.data['X_test'])\n",
    "\n",
    "\n",
    "    M.save(trained_model_name)                 \n",
    "    result_name = result_dir + data_name\n",
    "    from data_io import write\n",
    "    write(result_name + '_train.predict', Y_hat_train)\n",
    "    write(result_name + '_valid.predict', Y_hat_valid)\n",
    "    write(result_name + '_test.predict', Y_hat_test)\n",
    "    !ls $result_name*\n",
    "\n",
    "    metric_name, scoring_function = get_metric()\n",
    "    scores = cross_val_score(M, X_train, Y_train, cv=5, scoring=make_scorer(scoring_function))\n",
    "    print('Training train score for the', metric_name, 'metric = %5.4f' % scoring_function(Y_train, Y_hat_train))\n",
    "    print('\\nCV score (95 perc. CI): %0.2f (+/- %0.2f)' % (scores.mean(), scores.std() * 2))\n",
    "    "
   ]
  },
  {
   "cell_type": "code",
   "execution_count": 97,
   "metadata": {
    "scrolled": true
   },
   "outputs": [
    {
     "name": "stdout",
     "output_type": "stream",
     "text": [
      "FIT: dim(X)= [10752, 203]\n",
      "FIT: dim(y)= [10752, 1]\n",
      "PREDICT: dim(X)= [10752, 203]\n",
      "PREDICT: dim(y)= [10752, 1]\n",
      "PREDICT: dim(X)= [3584, 203]\n",
      "PREDICT: dim(y)= [3584, 1]\n",
      "PREDICT: dim(X)= [3584, 203]\n",
      "PREDICT: dim(y)= [3584, 1]\n",
      "sample_result_submission/plankton_test.predict\n",
      "sample_result_submission/plankton_train.predict\n",
      "sample_result_submission/plankton_valid.predict\n",
      "FIT: dim(X)= [8601, 203]\n",
      "FIT: dim(y)= [8601, 1]\n",
      "PREDICT: dim(X)= [2151, 203]\n",
      "PREDICT: dim(y)= [2151, 1]\n",
      "FIT: dim(X)= [8601, 203]\n",
      "FIT: dim(y)= [8601, 1]\n",
      "PREDICT: dim(X)= [2151, 203]\n",
      "PREDICT: dim(y)= [2151, 1]\n",
      "FIT: dim(X)= [8602, 203]\n",
      "FIT: dim(y)= [8602, 1]\n",
      "PREDICT: dim(X)= [2150, 203]\n",
      "PREDICT: dim(y)= [2150, 1]\n",
      "FIT: dim(X)= [8602, 203]\n",
      "FIT: dim(y)= [8602, 1]\n",
      "PREDICT: dim(X)= [2150, 203]\n",
      "PREDICT: dim(y)= [2150, 1]\n",
      "FIT: dim(X)= [8602, 203]\n",
      "FIT: dim(y)= [8602, 1]\n",
      "PREDICT: dim(X)= [2150, 203]\n",
      "PREDICT: dim(y)= [2150, 1]\n",
      "Training train score for the balanced_accuracy_score metric = 0.9998\n",
      "\n",
      "CV score (95 perc. CI): 0.78 (+/- 0.01)\n"
     ]
    }
   ],
   "source": [
    "Model_final = model(  RandomForestClassifier(n_estimators=100, max_depth=None, min_samples_split=2, random_state=0) )\n",
    "#Model_final = model(  RandomForestClassifier(n_estimators=182, max_depth=None, min_samples_split=2, random_state=1) ) #also good parameters\n",
    "doBestModel(Model_final)"
   ]
  },
  {
   "cell_type": "code",
   "execution_count": 184,
   "metadata": {
    "scrolled": true
   },
   "outputs": [],
   "source": [
    "logistic = ExtraTreesClassifier()\n",
    "distributions = dict( n_estimators=np.arange(0,200))\n",
    "#search = best_param_MODEL(logistic, distributions)\n",
    "#search.best_params_"
   ]
  },
  {
   "cell_type": "code",
   "execution_count": null,
   "metadata": {},
   "outputs": [],
   "source": [
    "Model_final = model(ExtraTreesClassifier (n_estimators=152)) \n",
    "#doBestModel(Model_final) #CV score (95 perc. CI): 0.78 (+/- 0.01)"
   ]
  },
  {
   "cell_type": "code",
   "execution_count": null,
   "metadata": {},
   "outputs": [],
   "source": [
    "#Model_final = model(  RandomForestClassifier(n_estimators=116, max_depth=None, min_samples_split=2, random_state=1)) \n",
    "#doBestModel(Model_final)"
   ]
  },
  {
   "cell_type": "markdown",
   "metadata": {},
   "source": [
    "## Stack and Voting\n",
    "\n",
    "The main difference between stacking and voting and voting is that stacking looks at the highest probability for a given data calculated by all the models. While voting looks at the highest number of data allocation of all models, for example if three model of 4 choose the feature 1, then it will be the feature 1.\n",
    "\n",
    "We are going to work here on the stacking. I have choosen the three best models, and best parameters that I tested (with cv ). I also tryed to correct the over-fitting of my data."
   ]
  },
  {
   "cell_type": "code",
   "execution_count": 104,
   "metadata": {},
   "outputs": [],
   "source": [
    "model_list = [\n",
    "    ('rf', ExtraTreesClassifier()),\n",
    "    #('knb',     KNeighborsClassifier(1),\n",
    "    ('rfc', RandomForestClassifier(n_estimators=116, max_depth=None, min_samples_split=2, random_state=1)),\n",
    "    ('rfc1',      MLPClassifier(alpha=1, max_iter=1000)),\n",
    "    ('rfc2',      GaussianNB()),\n",
    "    ('rfc3',          QuadraticDiscriminantAnalysis()),\n",
    "\n",
    "]"
   ]
  },
  {
   "cell_type": "code",
   "execution_count": 105,
   "metadata": {},
   "outputs": [],
   "source": [
    "from sklearn.ensemble import StackingClassifier\n",
    "from sklearn.linear_model import LogisticRegression"
   ]
  },
  {
   "cell_type": "code",
   "execution_count": 106,
   "metadata": {},
   "outputs": [
    {
     "name": "stdout",
     "output_type": "stream",
     "text": [
      "FIT: dim(X)= [10752, 203]\n",
      "FIT: dim(y)= [10752, 1]\n"
     ]
    },
    {
     "name": "stderr",
     "output_type": "stream",
     "text": [
      "/home/ramdane/.local/lib/python3.7/site-packages/sklearn/linear_model/_logistic.py:940: ConvergenceWarning: lbfgs failed to converge (status=1):\n",
      "STOP: TOTAL NO. of ITERATIONS REACHED LIMIT.\n",
      "\n",
      "Increase the number of iterations (max_iter) or scale the data as shown in:\n",
      "    https://scikit-learn.org/stable/modules/preprocessing.html\n",
      "Please also refer to the documentation for alternative solver options:\n",
      "    https://scikit-learn.org/stable/modules/linear_model.html#logistic-regression\n",
      "  extra_warning_msg=_LOGISTIC_SOLVER_CONVERGENCE_MSG)\n"
     ]
    },
    {
     "name": "stdout",
     "output_type": "stream",
     "text": [
      "PREDICT: dim(X)= [10752, 203]\n",
      "PREDICT: dim(y)= [10752, 1]\n",
      "PREDICT: dim(X)= [3584, 203]\n",
      "PREDICT: dim(y)= [3584, 1]\n",
      "PREDICT: dim(X)= [3584, 203]\n",
      "PREDICT: dim(y)= [3584, 1]\n",
      "sample_result_submission/plankton_test.predict\n",
      "sample_result_submission/plankton_train.predict\n",
      "sample_result_submission/plankton_valid.predict\n",
      "FIT: dim(X)= [8601, 203]\n",
      "FIT: dim(y)= [8601, 1]\n"
     ]
    },
    {
     "name": "stderr",
     "output_type": "stream",
     "text": [
      "/home/ramdane/.local/lib/python3.7/site-packages/sklearn/linear_model/_logistic.py:940: ConvergenceWarning: lbfgs failed to converge (status=1):\n",
      "STOP: TOTAL NO. of ITERATIONS REACHED LIMIT.\n",
      "\n",
      "Increase the number of iterations (max_iter) or scale the data as shown in:\n",
      "    https://scikit-learn.org/stable/modules/preprocessing.html\n",
      "Please also refer to the documentation for alternative solver options:\n",
      "    https://scikit-learn.org/stable/modules/linear_model.html#logistic-regression\n",
      "  extra_warning_msg=_LOGISTIC_SOLVER_CONVERGENCE_MSG)\n"
     ]
    },
    {
     "name": "stdout",
     "output_type": "stream",
     "text": [
      "PREDICT: dim(X)= [2151, 203]\n",
      "PREDICT: dim(y)= [2151, 1]\n",
      "FIT: dim(X)= [8601, 203]\n",
      "FIT: dim(y)= [8601, 1]\n"
     ]
    },
    {
     "name": "stderr",
     "output_type": "stream",
     "text": [
      "/home/ramdane/.local/lib/python3.7/site-packages/sklearn/linear_model/_logistic.py:940: ConvergenceWarning: lbfgs failed to converge (status=1):\n",
      "STOP: TOTAL NO. of ITERATIONS REACHED LIMIT.\n",
      "\n",
      "Increase the number of iterations (max_iter) or scale the data as shown in:\n",
      "    https://scikit-learn.org/stable/modules/preprocessing.html\n",
      "Please also refer to the documentation for alternative solver options:\n",
      "    https://scikit-learn.org/stable/modules/linear_model.html#logistic-regression\n",
      "  extra_warning_msg=_LOGISTIC_SOLVER_CONVERGENCE_MSG)\n"
     ]
    },
    {
     "name": "stdout",
     "output_type": "stream",
     "text": [
      "PREDICT: dim(X)= [2151, 203]\n",
      "PREDICT: dim(y)= [2151, 1]\n",
      "FIT: dim(X)= [8602, 203]\n",
      "FIT: dim(y)= [8602, 1]\n"
     ]
    },
    {
     "name": "stderr",
     "output_type": "stream",
     "text": [
      "/home/ramdane/.local/lib/python3.7/site-packages/sklearn/linear_model/_logistic.py:940: ConvergenceWarning: lbfgs failed to converge (status=1):\n",
      "STOP: TOTAL NO. of ITERATIONS REACHED LIMIT.\n",
      "\n",
      "Increase the number of iterations (max_iter) or scale the data as shown in:\n",
      "    https://scikit-learn.org/stable/modules/preprocessing.html\n",
      "Please also refer to the documentation for alternative solver options:\n",
      "    https://scikit-learn.org/stable/modules/linear_model.html#logistic-regression\n",
      "  extra_warning_msg=_LOGISTIC_SOLVER_CONVERGENCE_MSG)\n"
     ]
    },
    {
     "name": "stdout",
     "output_type": "stream",
     "text": [
      "PREDICT: dim(X)= [2150, 203]\n",
      "PREDICT: dim(y)= [2150, 1]\n",
      "FIT: dim(X)= [8602, 203]\n",
      "FIT: dim(y)= [8602, 1]\n"
     ]
    },
    {
     "name": "stderr",
     "output_type": "stream",
     "text": [
      "/home/ramdane/.local/lib/python3.7/site-packages/sklearn/linear_model/_logistic.py:940: ConvergenceWarning: lbfgs failed to converge (status=1):\n",
      "STOP: TOTAL NO. of ITERATIONS REACHED LIMIT.\n",
      "\n",
      "Increase the number of iterations (max_iter) or scale the data as shown in:\n",
      "    https://scikit-learn.org/stable/modules/preprocessing.html\n",
      "Please also refer to the documentation for alternative solver options:\n",
      "    https://scikit-learn.org/stable/modules/linear_model.html#logistic-regression\n",
      "  extra_warning_msg=_LOGISTIC_SOLVER_CONVERGENCE_MSG)\n"
     ]
    },
    {
     "name": "stdout",
     "output_type": "stream",
     "text": [
      "PREDICT: dim(X)= [2150, 203]\n",
      "PREDICT: dim(y)= [2150, 1]\n",
      "FIT: dim(X)= [8602, 203]\n",
      "FIT: dim(y)= [8602, 1]\n",
      "PREDICT: dim(X)= [2150, 203]\n",
      "PREDICT: dim(y)= [2150, 1]\n",
      "Training train score for the balanced_accuracy_score metric = 0.9998\n",
      "\n",
      "CV score (95 perc. CI): 0.81 (+/- 0.01)\n"
     ]
    },
    {
     "name": "stderr",
     "output_type": "stream",
     "text": [
      "/home/ramdane/.local/lib/python3.7/site-packages/sklearn/linear_model/_logistic.py:940: ConvergenceWarning: lbfgs failed to converge (status=1):\n",
      "STOP: TOTAL NO. of ITERATIONS REACHED LIMIT.\n",
      "\n",
      "Increase the number of iterations (max_iter) or scale the data as shown in:\n",
      "    https://scikit-learn.org/stable/modules/preprocessing.html\n",
      "Please also refer to the documentation for alternative solver options:\n",
      "    https://scikit-learn.org/stable/modules/linear_model.html#logistic-regression\n",
      "  extra_warning_msg=_LOGISTIC_SOLVER_CONVERGENCE_MSG)\n"
     ]
    }
   ],
   "source": [
    "clf = StackingClassifier(estimators=model_list, final_estimator=LogisticRegression())\n",
    "doBestModel(model(clf))"
   ]
  },
  {
   "cell_type": "markdown",
   "metadata": {},
   "source": [
    "### Looks good, I know how I can use stacking and woting, but I want to debug the metric score on the train data before I continue."
   ]
  },
  {
   "cell_type": "markdown",
   "metadata": {},
   "source": [
    "<div style=\"background:#FFFFAA\">\n",
    "<h1> Step 3: Making a submission </h1> \n",
    "\n",
    "<h2> Unit testing </h2> \n",
    "\n",
    "It is <b><span style=\"color:red\">important that you test your submission files before submitting them</span></b>. All you have to do to make a submission is modify the file <code>model.py</code> in the <code>sample_code_submission/</code> directory, then run this test to make sure everything works fine. This is the actual program that will be run on the server to test your submission. \n",
    "<br>\n",
    "Keep the sample code simple.\n",
    "</div>"
   ]
  },
  {
   "cell_type": "code",
   "execution_count": null,
   "metadata": {
    "scrolled": true
   },
   "outputs": [],
   "source": [
    "!source activate python3; python $problem_dir/ingestion.py $data_dir $result_dir $problem_dir $model_dir"
   ]
  },
  {
   "cell_type": "markdown",
   "metadata": {},
   "source": [
    "<div style=\"background:#FFFFAA\">\n",
    "Also test the scoring program:\n",
    "    </div>"
   ]
  },
  {
   "cell_type": "code",
   "execution_count": null,
   "metadata": {},
   "outputs": [],
   "source": [
    "scoring_output_dir = 'scoring_output'\n",
    "!source activate python3; python $score_dir/score.py $data_dir $result_dir $scoring_output_dir"
   ]
  },
  {
   "cell_type": "markdown",
   "metadata": {
    "collapsed": true
   },
   "source": [
    "<div style=\"background:#FFFFAA\">\n",
    "    <h1> Preparing the submission </h1>\n",
    "\n",
    "Zip the contents of `sample_code_submission/` (without the directory), or download the challenge public_data and run the command in the previous cell, after replacing sample_data by public_data.\n",
    "Then zip the contents of `sample_result_submission/` (without the directory).\n",
    "<b><span style=\"color:red\">Do NOT zip the data with your submissions</span></b>."
   ]
  },
  {
   "cell_type": "code",
   "execution_count": null,
   "metadata": {},
   "outputs": [],
   "source": [
    "import datetime \n",
    "from data_io import zipdir\n",
    "the_date = datetime.datetime.now().strftime(\"%y-%m-%d-%H-%M\")\n",
    "sample_code_submission = './sample_code_submission_' + the_date + '.zip'\n",
    "sample_result_submission = './sample_result_submission_' + the_date + '.zip'\n",
    "zipdir(sample_code_submission, model_dir)\n",
    "zipdir(sample_result_submission, result_dir)\n",
    "print(\"Submit one of these files:\\n\" + sample_code_submission + \"\\n\" + sample_result_submission)"
   ]
  },
  {
   "cell_type": "code",
   "execution_count": null,
   "metadata": {},
   "outputs": [],
   "source": []
  }
 ],
 "metadata": {
  "kernelspec": {
   "display_name": "Python 3",
   "language": "python",
   "name": "python3"
  },
  "language_info": {
   "codemirror_mode": {
    "name": "ipython",
    "version": 3
   },
   "file_extension": ".py",
   "mimetype": "text/x-python",
   "name": "python",
   "nbconvert_exporter": "python",
   "pygments_lexer": "ipython3",
   "version": "3.7.3"
  }
 },
 "nbformat": 4,
 "nbformat_minor": 1
}
