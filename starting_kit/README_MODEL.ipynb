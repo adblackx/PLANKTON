{
 "cells": [
  {
   "cell_type": "markdown",
   "metadata": {},
   "source": [
    "<div style=\"background:#FFFFAA\">\n",
    "<img src=\"logo.jpg\", width=150, ALIGN=\"left\", border=20>\n",
    "    <h1>Team GAIASAVERS</h1>\n",
    "    <h3>Alban Petit, Wafa Bouzouita,Timothée Babinet, Maxime Chor, Eric Wang, Sebastien Warichet</h3>\n",
    "    <h2>Plankton classification challenge</h2>\n",
    "\n",
    "<br>This code was tested with <br>\n",
    "Python 3.7 |Anaconda custom (64-bit)| (default, Jun 28 2018, 11:07:29) (https://anaconda.org/)<br>\n",
    "<i> Adapted for Chalab by Isabelle Guyon from original code of Balázs Kégl</i> <br>\n",
    "<a href=\"http://www.datascience-paris-saclay.fr\">Paris Saclay Center for Data Science (CDS)</a>\n",
    "</center>\n",
    "<p>\n",
    "ALL INFORMATION, SOFTWARE, DOCUMENTATION, AND DATA ARE PROVIDED \"AS-IS\". The CDS, CHALEARN, AND/OR OTHER ORGANIZERS OR CODE AUTHORS DISCLAIM ANY EXPRESSED OR IMPLIED WARRANTIES, INCLUDING, BUT NOT LIMITED TO, THE IMPLIED WARRANTIES OF MERCHANTABILITY AND FITNESS FOR ANY PARTICULAR PURPOSE, AND THE WARRANTY OF NON-INFRIGEMENT OF ANY THIRD PARTY'S INTELLECTUAL PROPERTY RIGHTS. IN NO EVENT SHALL AUTHORS AND ORGANIZERS BE LIABLE FOR ANY SPECIAL, \n",
    "INDIRECT OR CONSEQUENTIAL DAMAGES OR ANY DAMAGES WHATSOEVER ARISING OUT OF OR IN CONNECTION WITH THE USE OR PERFORMANCE OF SOFTWARE, DOCUMENTS, MATERIALS, PUBLICATIONS, OR INFORMATION MADE AVAILABLE FOR THE CHALLENGE. \n",
    "</div>"
   ]
  },
  {
   "cell_type": "markdown",
   "metadata": {},
   "source": [
    "<div style=\"background:#FFFFAA\">\n",
    "    <h2>Introduction </h2>\n",
    "     <br>\n",
    "       \n",
    "According to [NRMA15], a link has been found between the quality of water and the presence of plankton in said water. As water quality increases, the abundance and diversity of plankton does as well. The aim of our project is to build a plankton classifier to assess water quality.\n",
    "\n",
    "We use for this problem the Bering Sea dataset, an in situ plankton dataset published in May 2019 by Kaichang Cheng [Che19]. This datset contains 7 classes with an even spread.\n",
    "\n",
    "        \n",
    "References and credits: \n",
    "- [NRMA15] A. Nair, J.K. Reshma, A. Mathew, and A. Ashok. Effect of water quality on phytoplankton abundance in selected ponds of nedumangad block panchayat, kerala. Emer Life Sci Res, 2015.\n",
    "- [Che19] K. Cheng. Bering sea dataset. https://doi.org/10.6084/m9.figshare.8146283.v3, 2019.\n",
    " <br>\n",
    "</div>"
   ]
  },
  {
   "cell_type": "markdown",
   "metadata": {},
   "source": [
    "<img src=\"images/sample.png\" alt=\"Drawing\"/>\n",
    "To see more images for each class, see the \"images\" folder."
   ]
  },
  {
   "cell_type": "code",
   "execution_count": 1,
   "metadata": {},
   "outputs": [],
   "source": [
    "model_dir = 'sample_code_submission/'                        # Change the model to a better one once you have one!\n",
    "result_dir = 'sample_result_submission/' \n",
    "problem_dir = 'ingestion_program/'  \n",
    "score_dir = 'scoring_program/'\n",
    "from sys import path; path.append(model_dir); path.append(problem_dir); path.append(score_dir); \n",
    "%matplotlib inline\n",
    "# Uncomment the next lines to auto-reload libraries (this causes some problem with pickles in Python 3)\n",
    "%load_ext autoreload\n",
    "%autoreload 2\n",
    "import seaborn as sns; sns.set()\n",
    "import warnings\n",
    "warnings.simplefilter(action='ignore', category=FutureWarning)\n",
    "import matplotlib.pyplot as plt\n",
    "import pandas as pd"
   ]
  },
  {
   "cell_type": "markdown",
   "metadata": {},
   "source": [
    "<div style=\"background:#FFFFAA\">\n",
    "    <h1> Step 1: Exploratory data analysis </h1>\n",
    "<p>\n",
    "We provide sample_data with the starting kit, but to prepare your submission, you must fetch the public_data from the challenge website and point to it.\n",
    "    <br>\n",
    "    <span style=\"color:red\"> Just change the data name in the block below. In the rest of the section, replace the sample plots by anything you want. </span>\n",
    "</div>"
   ]
  },
  {
   "cell_type": "code",
   "execution_count": 311,
   "metadata": {},
   "outputs": [
    {
     "name": "stdout",
     "output_type": "stream",
     "text": [
      "plankton_feat.name     plankton_public.info  plankton_train.solution\r\n",
      "plankton_label.name    plankton_test.data    plankton_valid.data\r\n",
      "plankton_private.info  plankton_train.data\r\n"
     ]
    }
   ],
   "source": [
    "#data_dir = 'sample_data'              # Change this to the directory where you put the input data\n",
    "data_dir = 'public_data_images'          # The sample_data directory should contain only a very small subset of the data\n",
    "data_name = 'plankton'\n",
    "!ls $data_dir*"
   ]
  },
  {
   "cell_type": "markdown",
   "metadata": {},
   "source": [
    "<h3>Two \"feature representation\"</h3>\n",
    "\n",
    "<p>\n",
    "1.\n",
    "All of the images are in various shades of gray. As such, we can represent every image by a vector of 90000 (300x300) features where each feature is a float value between 0 and 255 representing the brightness of a pixel (0 being a black pixel and 255 a white one). It is also possible to reduce the size of the images to reduce the number of features as seen in figure 3 where we reduced the size to 100x100 pixels.\n",
    "</p>"
   ]
  },
  {
   "cell_type": "markdown",
   "metadata": {},
   "source": [
    "<tr>\n",
    "    <td> <img src=\"images/gray.png\" alt=\"Drawing\" style=\"width: 250px;\"/> </td>\n",
    "    <td> <img src=\"images/binarized.png\" alt=\"Drawing\" style=\"width: 250px;\"/> </td>\n",
    "</tr>\n"
   ]
  },
  {
   "cell_type": "markdown",
   "metadata": {},
   "source": [
    "<p>\n",
    "2. At first we will have four types of \"features\". Two \"features\" are applied on the binarized images.\n",
    "    <ul>\n",
    "        <li>The first is a sum of black pixels, per line and per column.\n",
    "This gives us 2 vectors of size 100. These \"features\" are representative among others of the shape of the plankton.\n",
    "For round seeders the ratio between rows and columns near the center of the image should be close.\n",
    "For longer plankton the ratio will be either low or high, depending on plankton position.\n",
    "        </li>\n",
    "        <li>The second is the average of the pixels.\n",
    "            This gives us information on the size of the plankton.\n",
    "        </li>\n",
    "        <li>The third feature is the variance and is applied to non-binarized images.</li>\n",
    "        <li>The last feature is the length of the contour of the plankton. It is obtained by applying a sobel filter on the image. This filter will put black pixels on the contours and white ones everywhere else. We can then just compute the amount of black pixels.\n",
    "    </ul>\n",
    "</p>"
   ]
  },
  {
   "cell_type": "markdown",
   "metadata": {},
   "source": [
    "For convenience, we load the data as a \"pandas\" data frame, so we can use \"pandas\" and \"seaborn\" built in functions to explore the data."
   ]
  },
  {
   "cell_type": "code",
   "execution_count": 312,
   "metadata": {},
   "outputs": [
    {
     "name": "stdout",
     "output_type": "stream",
     "text": [
      "Reading public_data_images/plankton_train from AutoML format\n",
      "Number of examples = 10752\n",
      "Number of features = 10000\n",
      "          Class\n",
      "0  chaetognatha\n",
      "1      copepoda\n",
      "2   euphausiids\n",
      "3   fish_larvae\n",
      "4      limacina\n",
      "5       medusae\n",
      "6         other\n",
      "Number of classes = 7\n"
     ]
    }
   ],
   "source": [
    "from data_io import read_as_df\n",
    "data = read_as_df(data_dir  + '/' + data_name)                # The data are loaded as a Pandas Data Frame"
   ]
  },
  {
   "cell_type": "markdown",
   "metadata": {},
   "source": [
    "This shows the distribution of labels in the training set"
   ]
  },
  {
   "cell_type": "code",
   "execution_count": 313,
   "metadata": {},
   "outputs": [],
   "source": [
    "#data['target'].value_counts()"
   ]
  },
  {
   "cell_type": "markdown",
   "metadata": {},
   "source": [
    "The first rows of the dataset."
   ]
  },
  {
   "cell_type": "code",
   "execution_count": 323,
   "metadata": {},
   "outputs": [
    {
     "data": {
      "text/html": [
       "<div>\n",
       "<style scoped>\n",
       "    .dataframe tbody tr th:only-of-type {\n",
       "        vertical-align: middle;\n",
       "    }\n",
       "\n",
       "    .dataframe tbody tr th {\n",
       "        vertical-align: top;\n",
       "    }\n",
       "\n",
       "    .dataframe thead th {\n",
       "        text-align: right;\n",
       "    }\n",
       "</style>\n",
       "<table border=\"1\" class=\"dataframe\">\n",
       "  <thead>\n",
       "    <tr style=\"text-align: right;\">\n",
       "      <th></th>\n",
       "      <th>pixel_0_0</th>\n",
       "      <th>pixel_0_1</th>\n",
       "      <th>pixel_0_2</th>\n",
       "      <th>pixel_0_3</th>\n",
       "      <th>pixel_0_4</th>\n",
       "      <th>pixel_0_5</th>\n",
       "      <th>pixel_0_6</th>\n",
       "      <th>pixel_0_7</th>\n",
       "      <th>pixel_0_8</th>\n",
       "      <th>pixel_0_9</th>\n",
       "      <th>...</th>\n",
       "      <th>pixel_99_91</th>\n",
       "      <th>pixel_99_92</th>\n",
       "      <th>pixel_99_93</th>\n",
       "      <th>pixel_99_94</th>\n",
       "      <th>pixel_99_95</th>\n",
       "      <th>pixel_99_96</th>\n",
       "      <th>pixel_99_97</th>\n",
       "      <th>pixel_99_98</th>\n",
       "      <th>pixel_99_99</th>\n",
       "      <th>target</th>\n",
       "    </tr>\n",
       "  </thead>\n",
       "  <tbody>\n",
       "    <tr>\n",
       "      <th>0</th>\n",
       "      <td>255</td>\n",
       "      <td>255</td>\n",
       "      <td>255</td>\n",
       "      <td>255</td>\n",
       "      <td>255</td>\n",
       "      <td>255</td>\n",
       "      <td>255</td>\n",
       "      <td>255</td>\n",
       "      <td>255</td>\n",
       "      <td>255</td>\n",
       "      <td>...</td>\n",
       "      <td>255</td>\n",
       "      <td>255</td>\n",
       "      <td>255</td>\n",
       "      <td>255</td>\n",
       "      <td>255</td>\n",
       "      <td>255</td>\n",
       "      <td>255</td>\n",
       "      <td>255</td>\n",
       "      <td>255</td>\n",
       "      <td>other</td>\n",
       "    </tr>\n",
       "    <tr>\n",
       "      <th>1</th>\n",
       "      <td>255</td>\n",
       "      <td>255</td>\n",
       "      <td>255</td>\n",
       "      <td>255</td>\n",
       "      <td>255</td>\n",
       "      <td>255</td>\n",
       "      <td>255</td>\n",
       "      <td>255</td>\n",
       "      <td>255</td>\n",
       "      <td>255</td>\n",
       "      <td>...</td>\n",
       "      <td>255</td>\n",
       "      <td>255</td>\n",
       "      <td>255</td>\n",
       "      <td>255</td>\n",
       "      <td>255</td>\n",
       "      <td>255</td>\n",
       "      <td>255</td>\n",
       "      <td>255</td>\n",
       "      <td>255</td>\n",
       "      <td>euphausiids</td>\n",
       "    </tr>\n",
       "    <tr>\n",
       "      <th>2</th>\n",
       "      <td>255</td>\n",
       "      <td>255</td>\n",
       "      <td>255</td>\n",
       "      <td>255</td>\n",
       "      <td>255</td>\n",
       "      <td>254</td>\n",
       "      <td>254</td>\n",
       "      <td>200</td>\n",
       "      <td>159</td>\n",
       "      <td>161</td>\n",
       "      <td>...</td>\n",
       "      <td>156</td>\n",
       "      <td>237</td>\n",
       "      <td>255</td>\n",
       "      <td>255</td>\n",
       "      <td>255</td>\n",
       "      <td>255</td>\n",
       "      <td>255</td>\n",
       "      <td>255</td>\n",
       "      <td>255</td>\n",
       "      <td>euphausiids</td>\n",
       "    </tr>\n",
       "    <tr>\n",
       "      <th>3</th>\n",
       "      <td>255</td>\n",
       "      <td>255</td>\n",
       "      <td>255</td>\n",
       "      <td>255</td>\n",
       "      <td>255</td>\n",
       "      <td>255</td>\n",
       "      <td>255</td>\n",
       "      <td>255</td>\n",
       "      <td>255</td>\n",
       "      <td>255</td>\n",
       "      <td>...</td>\n",
       "      <td>255</td>\n",
       "      <td>255</td>\n",
       "      <td>255</td>\n",
       "      <td>255</td>\n",
       "      <td>255</td>\n",
       "      <td>255</td>\n",
       "      <td>255</td>\n",
       "      <td>255</td>\n",
       "      <td>255</td>\n",
       "      <td>fish_larvae</td>\n",
       "    </tr>\n",
       "    <tr>\n",
       "      <th>4</th>\n",
       "      <td>255</td>\n",
       "      <td>255</td>\n",
       "      <td>255</td>\n",
       "      <td>255</td>\n",
       "      <td>255</td>\n",
       "      <td>255</td>\n",
       "      <td>255</td>\n",
       "      <td>255</td>\n",
       "      <td>255</td>\n",
       "      <td>255</td>\n",
       "      <td>...</td>\n",
       "      <td>255</td>\n",
       "      <td>255</td>\n",
       "      <td>255</td>\n",
       "      <td>255</td>\n",
       "      <td>255</td>\n",
       "      <td>255</td>\n",
       "      <td>255</td>\n",
       "      <td>255</td>\n",
       "      <td>255</td>\n",
       "      <td>other</td>\n",
       "    </tr>\n",
       "  </tbody>\n",
       "</table>\n",
       "<p>5 rows × 10001 columns</p>\n",
       "</div>"
      ],
      "text/plain": [
       "   pixel_0_0  pixel_0_1  pixel_0_2  pixel_0_3  pixel_0_4  pixel_0_5  \\\n",
       "0        255        255        255        255        255        255   \n",
       "1        255        255        255        255        255        255   \n",
       "2        255        255        255        255        255        254   \n",
       "3        255        255        255        255        255        255   \n",
       "4        255        255        255        255        255        255   \n",
       "\n",
       "   pixel_0_6  pixel_0_7  pixel_0_8  pixel_0_9  ...  pixel_99_91  pixel_99_92  \\\n",
       "0        255        255        255        255  ...          255          255   \n",
       "1        255        255        255        255  ...          255          255   \n",
       "2        254        200        159        161  ...          156          237   \n",
       "3        255        255        255        255  ...          255          255   \n",
       "4        255        255        255        255  ...          255          255   \n",
       "\n",
       "   pixel_99_93  pixel_99_94  pixel_99_95  pixel_99_96  pixel_99_97  \\\n",
       "0          255          255          255          255          255   \n",
       "1          255          255          255          255          255   \n",
       "2          255          255          255          255          255   \n",
       "3          255          255          255          255          255   \n",
       "4          255          255          255          255          255   \n",
       "\n",
       "   pixel_99_98  pixel_99_99       target  \n",
       "0          255          255        other  \n",
       "1          255          255  euphausiids  \n",
       "2          255          255  euphausiids  \n",
       "3          255          255  fish_larvae  \n",
       "4          255          255        other  \n",
       "\n",
       "[5 rows x 10001 columns]"
      ]
     },
     "execution_count": 323,
     "metadata": {},
     "output_type": "execute_result"
    }
   ],
   "source": [
    "data.head()"
   ]
  },
  {
   "cell_type": "markdown",
   "metadata": {},
   "source": [
    "Some statistics about the features."
   ]
  },
  {
   "cell_type": "code",
   "execution_count": 325,
   "metadata": {},
   "outputs": [
    {
     "data": {
      "text/plain": [
       "array([6., 3., 3., ..., 3., 5., 1.])"
      ]
     },
     "execution_count": 325,
     "metadata": {},
     "output_type": "execute_result"
    }
   ],
   "source": [
    "Y_train"
   ]
  },
  {
   "cell_type": "code",
   "execution_count": 315,
   "metadata": {},
   "outputs": [],
   "source": [
    "#data[['sum_axis_0_50','sum_axis_1_50','mean','variance', 'outline_length']].hist(figsize=(10, 10), bins=50, layout=(3, 2));"
   ]
  },
  {
   "cell_type": "code",
   "execution_count": 8,
   "metadata": {},
   "outputs": [
    {
     "data": {
      "text/plain": [
       "\"from sklearn import preprocessing\\ndata_target = data.copy()\\nle = preprocessing.LabelEncoder()\\ndata_target.target = le.fit_transform(data_target.target.values)\\nfig = plt.figure(figsize=(15,8))\\nsns.heatmap(data_target[['sum_axis_0_50','sum_axis_1_50','mean','variance','outline_length','target']].corr(), annot = True)\\nplt.title('Correlation_matrix')\\nplt.show()\""
      ]
     },
     "execution_count": 8,
     "metadata": {},
     "output_type": "execute_result"
    }
   ],
   "source": [
    "\"\"\"from sklearn import preprocessing\n",
    "data_target = data.copy()\n",
    "le = preprocessing.LabelEncoder()\n",
    "data_target.target = le.fit_transform(data_target.target.values)\n",
    "fig = plt.figure(figsize=(15,8))\n",
    "sns.heatmap(data_target[['sum_axis_0_50','sum_axis_1_50','mean','variance','outline_length','target']].corr(), annot = True)\n",
    "plt.title('Correlation_matrix')\n",
    "plt.show()\"\"\""
   ]
  },
  {
   "cell_type": "code",
   "execution_count": 9,
   "metadata": {},
   "outputs": [],
   "source": [
    "#sns.pairplot(data,hue='target',vars=['sum_axis_0_50','sum_axis_1_50','mean','variance','outline_length'])\n",
    "#plt.show()"
   ]
  },
  {
   "cell_type": "markdown",
   "metadata": {},
   "source": [
    "<div style=\"background:#FFFFAA\">\n",
    "<h1>Step 2: Building a predictive model</h1>\n",
    "</div>"
   ]
  },
  {
   "cell_type": "markdown",
   "metadata": {},
   "source": [
    "<div style=\"background:#FFFFAA\">\n",
    "    <h2>Loading data with DataManager</h2>\n",
    "    <p>\n",
    "We reload the data with the AutoML DataManager class because this is more convenient:\n",
    "</div>"
   ]
  },
  {
   "cell_type": "code",
   "execution_count": 326,
   "metadata": {},
   "outputs": [
    {
     "name": "stdout",
     "output_type": "stream",
     "text": [
      "Info file found : /home/tp-home011/rmoulou/Bureau/PLANKTON/starting_kit/public_data_images/plankton_public.info\n",
      "DataManager : plankton\n",
      "info:\n",
      "\tusage = Sample dataset plankton data\n",
      "\tname = plankton\n",
      "\ttask = multiclass.classification\n",
      "\ttarget_type = Numerical\n",
      "\tfeat_type = Numerical\n",
      "\tmetric = bac_metric\n",
      "\ttime_budget = 1200\n",
      "\tfeat_num = 90000\n",
      "\ttarget_num = 7\n",
      "\tlabel_num = 7\n",
      "\ttrain_num = 10752\n",
      "\tvalid_num = 3584\n",
      "\ttest_num = 3584\n",
      "\thas_categorical = 0\n",
      "\thas_missing = 0\n",
      "\tis_sparse = 0\n",
      "\tformat = dense\n",
      "data:\n",
      "\tX_train = array(10752, 10000)\n",
      "\tY_train = array(10752, 1)\n",
      "\tX_valid = array(3584, 10000)\n",
      "\tY_valid = array(0,)\n",
      "\tX_test = array(3584, 10000)\n",
      "\tY_test = array(0,)\n",
      "feat_type:\tarray(90000,)\n",
      "feat_idx:\tarray(0,)\n",
      "\n"
     ]
    }
   ],
   "source": [
    "from data_manager import DataManager\n",
    "D = DataManager(data_name, data_dir, replace_missing=True)\n",
    "print(D)"
   ]
  },
  {
   "cell_type": "markdown",
   "metadata": {},
   "source": [
    "<div style=\"background:#FFFFAA\">\n",
    "    <h2>Training a predictive model</h2>\n",
    "    <p>\n",
    "We provide an example of predictive model (for classification or regression) in the `sample_code_submission/` directory. It is a quite stupid model: it makes constant predictions. Replace it with your own model.\n",
    "    </div>"
   ]
  },
  {
   "cell_type": "code",
   "execution_count": 327,
   "metadata": {},
   "outputs": [],
   "source": [
    "from data_io import write\n",
    "from model import model"
   ]
  },
  {
   "cell_type": "markdown",
   "metadata": {},
   "source": [
    "<div style=\"background:#FFFFAA\">\n",
    "an instance of the model (run the constructor) and attempt to reload a previously saved version from `sample_code_submission/`:\n",
    "    \n",
    "</div>"
   ]
  },
  {
   "cell_type": "code",
   "execution_count": 340,
   "metadata": {},
   "outputs": [],
   "source": [
    "from sklearn.ensemble import ExtraTreesClassifier\n",
    "from sklearn.ensemble import RandomForestClassifier\n",
    "\n",
    "#M = model(  ExtraTreesClassifier (n_estimators=86))\n",
    "#CV score (95 perc. CI): 0.78 (+/- 0.01)\n",
    "#{'random_state': 1, 'n_estimators': 116, 'min_samples_split': 2}\n",
    "\n",
    "\n",
    "M = model(ExtraTreesClassifier (n_estimators=2)) \n",
    "#CV score (95 perc. CI): 0.78 (+/- 0.01)\n",
    "#{'random_state': 1, 'n_estimators': 116, 'min_samples_split': 2}\n",
    "\n",
    "\n",
    "trained_model_name = model_dir + data_name\n",
    "\n",
    "# Because we test a lot of model, to not lose time we can reload the last model to make tests faster\n",
    "# Uncomment the next line to re-load an already trained model\n",
    "#M = model()\n",
    "#M = M.load(trained_model_name)                  "
   ]
  },
  {
   "cell_type": "markdown",
   "metadata": {},
   "source": [
    "<div style=\"background:#FFFFAA\">\n",
    "    Train the model (unless you reloaded a trained model) and make predictions. \n",
    "</div>"
   ]
  },
  {
   "cell_type": "code",
   "execution_count": 341,
   "metadata": {
    "scrolled": false
   },
   "outputs": [
    {
     "name": "stdout",
     "output_type": "stream",
     "text": [
      "FIT: dim(X)= [7203, 10000]\n",
      "FIT: dim(y)= [7203, 1]\n",
      "training\n"
     ]
    }
   ],
   "source": [
    "X_donnees = D.data['X_train']\n",
    "Y_donnees = D.data['Y_train'].ravel()\n",
    "\n",
    "from sklearn.model_selection import train_test_split\n",
    "seed = 1\n",
    "\n",
    "X_train, X_valid, Y_train, Y_valid = train_test_split( X_donnees, Y_donnees, test_size=0.33, random_state=seed, stratify=Y_donnees)\n",
    "\n",
    "\n",
    "if not(M.is_trained):\n",
    "    M.fit(X_train, Y_train)\n",
    "    print('training')"
   ]
  },
  {
   "cell_type": "code",
   "execution_count": 342,
   "metadata": {},
   "outputs": [
    {
     "name": "stdout",
     "output_type": "stream",
     "text": [
      "PREDICT: dim(X)= [7203, 10000]\n",
      "PREDICT: dim(y)= [7203, 1]\n",
      "PREDICT: dim(X)= [3549, 10000]\n",
      "PREDICT: dim(y)= [3549, 1]\n",
      "PREDICT: dim(X)= [3584, 10000]\n",
      "PREDICT: dim(y)= [3584, 1]\n"
     ]
    }
   ],
   "source": [
    "#Y_hat_train = M.predict(D.data['X_train']) # Optional, not really needed to test on training examples\n",
    "Y_hat_train = M.predict(X_train) # new size of X_train\n",
    "Y_hat_valid = M.predict(X_valid)\n",
    "Y_hat_test = M.predict(D.data['X_test'])"
   ]
  },
  {
   "cell_type": "markdown",
   "metadata": {},
   "source": [
    "<div style=\"background:#FFFFAA\">\n",
    "    <b> Save the trained model </b> (will be ready to reload next time around) and save the prediction results. IMPORTANT: if you save the trained model, it will be bundled with your sample code submission. Therefore your model will NOT be retrained on the challenge platform. Remove the pickle from the submission if you want the model to be retrained on the platform.\n",
    "</div>"
   ]
  },
  {
   "cell_type": "code",
   "execution_count": 343,
   "metadata": {},
   "outputs": [
    {
     "name": "stdout",
     "output_type": "stream",
     "text": [
      "sample_result_submission/plankton_test.predict\r\n",
      "sample_result_submission/plankton_train.predict\r\n",
      "sample_result_submission/plankton_valid.predict\r\n"
     ]
    }
   ],
   "source": [
    "M.save(trained_model_name)                 \n",
    "result_name = result_dir + data_name\n",
    "from data_io import write\n",
    "write(result_name + '_train.predict', Y_hat_train)\n",
    "write(result_name + '_valid.predict', Y_hat_valid)\n",
    "write(result_name + '_test.predict', Y_hat_test)\n",
    "!ls $result_name*"
   ]
  },
  {
   "cell_type": "markdown",
   "metadata": {},
   "source": [
    "<div style=\"background:#FFFFAA\">\n",
    "    <h2>Scoring the results</h2>\n",
    "    <h3>Load the challenge metric</h3>\n",
    "    <p>\n",
    "<b>The metric chosen for your challenge</b> is identified in the \"metric.txt\" file found in the `scoring_function/` directory. The function \"get_metric\" searches first for a metric having that name in my_metric.py, then in libscores.py, then in sklearn.metric.\n",
    "    </div>"
   ]
  },
  {
   "cell_type": "markdown",
   "metadata": {},
   "source": [
    "<div style=\"background:#FFFFAA\">\n",
    "The chosen metric is the balanced accuracy. It computes the proportion of elements correctly predicted for each class. It then returns the mean of these values. The advantage of this metric is that every class is given an equal weight. <br> In our case, since all the classes are perfectly balanced, it is equivalent to simply computing the accuracy score but it the case the test set is changed and is no longer balanced, the balanced accuracy will still work properly while the accuracy score will not.\n",
    "</div>"
   ]
  },
  {
   "cell_type": "code",
   "execution_count": 344,
   "metadata": {},
   "outputs": [
    {
     "name": "stdout",
     "output_type": "stream",
     "text": [
      "Using scoring metric: balanced_accuracy_score\n"
     ]
    }
   ],
   "source": [
    "from libscores import get_metric\n",
    "metric_name, scoring_function = get_metric()\n",
    "print('Using scoring metric:', metric_name)\n",
    "# Uncomment the next line to display the code of the scoring metric\n",
    "#??scoring_function"
   ]
  },
  {
   "cell_type": "markdown",
   "metadata": {},
   "source": [
    "<div style=\"background:#FFFFAA\">\n",
    "    <h3> Training performance </h3>\n",
    "    <p>\n",
    "The participants normally posess target values (labels) only for training examples (except for the sample data). We compute with the `example` metric the training score, which should be zero for perfect predictions.\n",
    "        </div>"
   ]
  },
  {
   "cell_type": "code",
   "execution_count": 345,
   "metadata": {},
   "outputs": [
    {
     "name": "stdout",
     "output_type": "stream",
     "text": [
      "Training train score for the balanced_accuracy_score metric = 1.0000\n",
      "Training valid score for the balanced_accuracy_score metric = 0.4672\n",
      "Ideal score for the balanced_accuracy_score metric = 1.0000\n"
     ]
    }
   ],
   "source": [
    "print('Training train score for the', metric_name, 'metric = %5.4f' % scoring_function(Y_train, Y_hat_train))\n",
    "print('Training valid score for the', metric_name, 'metric = %5.4f' % scoring_function(Y_valid, Y_hat_valid))\n",
    "print('Ideal score for the', metric_name, 'metric = %5.4f' % scoring_function(Y_train, Y_train))"
   ]
  },
  {
   "cell_type": "markdown",
   "metadata": {},
   "source": [
    "You can add here other scores and result visualization."
   ]
  },
  {
   "cell_type": "code",
   "execution_count": 346,
   "metadata": {
    "scrolled": false
   },
   "outputs": [
    {
     "data": {
      "image/png": "[encoded data removed]",
      "text/plain": [
       "<Figure size 800x800 with 2 Axes>"
      ]
     },
     "metadata": {},
     "output_type": "display_data"
    }
   ],
   "source": [
    "from sklearn.metrics import confusion_matrix\n",
    "import numpy as np\n",
    "import matplotlib.pyplot as plt\n",
    "\n",
    "plt.style.use('default')\n",
    "labels = [\"chaetognatha\",\"copepoda\",\"euphausiids\",\"fish_larvae\",\"limacina\",\"medusae\",\"other\"]\n",
    "cm = confusion_matrix(Y_train, Y_hat_train)\n",
    "cm = cm.astype('float') / cm.sum(axis=1)[:,np.newaxis]\n",
    "fig, ax = plt.subplots(figsize=(8,8))\n",
    "im = ax.imshow(cm, interpolation='nearest',cmap=plt.cm.Blues)\n",
    "ax.figure.colorbar(im, ax=ax)\n",
    "ax.set(xticks=np.arange(cm.shape[1]),yticks=np.arange(cm.shape[0]),xticklabels=labels,yticklabels=labels,title=\"Confusion matrix\",xlabel=\"Predicted label\",ylabel=\"True label\")\n",
    "plt.setp(ax.get_xticklabels(), rotation=45, ha=\"right\", rotation_mode=\"anchor\")\n",
    "fmt = '.2f'\n",
    "thresh = cm.max()/2.\n",
    "for i in range(cm.shape[0]):\n",
    "    for j in range(cm.shape[1]):\n",
    "        ax.text(j, i, format(cm[i, j], fmt),\n",
    "                ha=\"center\", va=\"center\",\n",
    "                color=\"white\" if cm[i, j] > thresh else \"black\")\n",
    "fig.tight_layout()"
   ]
  },
  {
   "cell_type": "markdown",
   "metadata": {},
   "source": [
    "<div style=\"background:#FFFFAA\">\n",
    "    <h3>Cross-validation performance</h3>\n",
    "    <p>\n",
    "The participants do not have access to the labels Y_valid and Y_test to self-assess their validation and test performances. But training performance is not a good prediction of validation or test performance. Using cross-validation, the training data is split into multiple training/test folds, which allows participants to self-assess their model during development. The average CV result and 95% confidence interval is displayed.\n",
    "   </div>"
   ]
  },
  {
   "cell_type": "code",
   "execution_count": 264,
   "metadata": {
    "scrolled": true
   },
   "outputs": [
    {
     "name": "stdout",
     "output_type": "stream",
     "text": [
      "FIT: dim(X)= [5762, 203]\n",
      "FIT: dim(y)= [5762, 1]\n",
      "PREDICT: dim(X)= [1441, 203]\n",
      "PREDICT: dim(y)= [1441, 1]\n",
      "FIT: dim(X)= [5762, 203]\n",
      "FIT: dim(y)= [5762, 1]\n",
      "PREDICT: dim(X)= [1441, 203]\n",
      "PREDICT: dim(y)= [1441, 1]\n",
      "FIT: dim(X)= [5762, 203]\n",
      "FIT: dim(y)= [5762, 1]\n",
      "PREDICT: dim(X)= [1441, 203]\n",
      "PREDICT: dim(y)= [1441, 1]\n",
      "FIT: dim(X)= [5763, 203]\n",
      "FIT: dim(y)= [5763, 1]\n",
      "PREDICT: dim(X)= [1440, 203]\n",
      "PREDICT: dim(y)= [1440, 1]\n",
      "FIT: dim(X)= [5763, 203]\n",
      "FIT: dim(y)= [5763, 1]\n",
      "PREDICT: dim(X)= [1440, 203]\n",
      "PREDICT: dim(y)= [1440, 1]\n",
      "\n",
      "CV score (95 perc. CI): 0.74 (+/- 0.02)\n"
     ]
    }
   ],
   "source": [
    "from sklearn.metrics import make_scorer\n",
    "from sklearn.model_selection import cross_val_score\n",
    "scores = cross_val_score(M, X_train, Y_train, cv=5, scoring=make_scorer(scoring_function))\n",
    "print('\\nCV score (95 perc. CI): %0.2f (+/- %0.2f)' % (scores.mean(), scores.std() * 2))"
   ]
  },
  {
   "cell_type": "code",
   "execution_count": 266,
   "metadata": {},
   "outputs": [
    {
     "name": "stdout",
     "output_type": "stream",
     "text": [
      "0.7392058586400313\n"
     ]
    }
   ],
   "source": [
    "print( (scores.mean())) # extra printing to see the details"
   ]
  },
  {
   "cell_type": "code",
   "execution_count": 238,
   "metadata": {},
   "outputs": [],
   "source": [
    "#??scoring_function"
   ]
  },
  {
   "cell_type": "markdown",
   "metadata": {},
   "source": [
    "# Finding the best model\n",
    "\n",
    "## We define a functon many models and compare the cross-validation and training performance\n",
    "\n",
    "\n",
    "\n",
    "\n",
    "\n",
    "\n"
   ]
  },
  {
   "cell_type": "code",
   "execution_count": 267,
   "metadata": {},
   "outputs": [],
   "source": [
    "def finBest(model_name, model_list):\n",
    "    \n",
    "    \"\"\"\n",
    "    Runs different models with random parameters.\n",
    "    For each model we calculate the cross-valdiation and training performance\n",
    "    \n",
    "    Parameters\n",
    "    ----------\n",
    "    model_name: model's liste\n",
    "    model_list: list of random values for models\n",
    "    \n",
    "    \n",
    "    Returns\n",
    "    ------\n",
    "    C1: model name\n",
    "    C2: cross-validation score\n",
    "    C3: training performance\n",
    "    C4: valid performance\n",
    "    \n",
    "    \"\"\"\n",
    "\n",
    "    #----------------\n",
    "    from libscores import get_metric\n",
    "    #print('Using scoring metric:', metric_name)\n",
    "    #----------------\n",
    "    \n",
    "    X_donnees = D.data['X_train']\n",
    "    Y_donnees = D.data['Y_train'].ravel()\n",
    "\n",
    "    from sklearn.model_selection import train_test_split\n",
    "\n",
    "    X_train, X_valid, Y_train, Y_valid = train_test_split( X_donnees, Y_donnees, test_size=0.33, shuffle=True ,random_state=seed, stratify=Y_donnees)\n",
    "\n",
    "    #Y_hat_train = M.predict(D.data['X_train']) # Optional, not really needed to test on training examples\n",
    "\n",
    "\n",
    "    c1=[]\n",
    "    c2=[]\n",
    "    c3=[]\n",
    "    c4=[]\n",
    "    \n",
    "    \n",
    "    for i in np.arange(len(model_list)) :\n",
    "\n",
    "        \n",
    "        M = model(classifier=model_list[i])\n",
    "        trained_model_name = model_dir + data_name\n",
    "\n",
    "        if not(M.is_trained):\n",
    "            M.fit(X_train, Y_train)\n",
    "            \n",
    "        Y_hat_train = M.predict(X_train) # new size of X_train\n",
    "        Y_hat_valid = M.predict(X_valid)\n",
    "        \n",
    "        \n",
    "        M.save(trained_model_name)                 \n",
    "        result_name = result_dir + data_name\n",
    "        from data_io import write\n",
    "        write(result_name + '_train.predict', Y_hat_train)\n",
    "        write(result_name + '_valid.predict', Y_hat_valid)\n",
    "        #write(result_name + '_test.predict', Y_hat_test)\n",
    "        !ls $result_name*\n",
    "        \n",
    "        metric_name, scoring_function = get_metric()\n",
    "        \n",
    "        scores = cross_val_score(M, X_train, Y_train, cv=2, scoring=make_scorer(scoring_function))\n",
    "        \n",
    "        #print('\\nCV score (95 perc. CI): %0.2f (+/- %0.2f)' % (scores.mean(), scores.std() * 2))\n",
    "        \n",
    "        #res.append([model_name[i], scores.mean(), '   metric = %5.4f' % scoring_function(Y_train, Y_hat_train)])\n",
    "        #print('Training score for the', metric_name, 'metric = %5.4f' % scoring_function(Y_train, Y_hat_train))\n",
    "        c1.append(model_name[i])\n",
    "        c2.append(scores.mean())\n",
    "        print(\">>>>>>\", scores)\n",
    "        c3.append(scoring_function(Y_train, Y_hat_train))\n",
    "        c4.append(scoring_function(Y_valid, Y_hat_valid))\n",
    "        \n",
    "        #print('Training train score for the', metric_name, 'metric = %5.4f' % scoring_function(Y_train, Y_hat_train))\n",
    "        #print('Training valid score for the', metric_name, 'metric = %5.4f' % scoring_function(Y_valid, Y_hat_valid))\n",
    "        #print('Ideal score for the', metric_name, 'metric = %5.4f' % scoring_function(Y_train, Y_train))\n",
    "\n",
    "    return c1,c2,c3,c4"
   ]
  },
  {
   "cell_type": "code",
   "execution_count": 275,
   "metadata": {},
   "outputs": [],
   "source": [
    "from sklearn.neural_network import MLPClassifier\n",
    "from sklearn.neighbors import KNeighborsClassifier\n",
    "from sklearn.svm import SVC\n",
    "from sklearn.gaussian_process import GaussianProcessClassifier\n",
    "from sklearn.gaussian_process.kernels import RBF\n",
    "from sklearn.tree import DecisionTreeClassifier\n",
    "from sklearn.ensemble import RandomForestClassifier, AdaBoostClassifier\n",
    "from sklearn.naive_bayes import GaussianNB\n",
    "from sklearn.discriminant_analysis import QuadraticDiscriminantAnalysis\n",
    "from sklearn.ensemble import ExtraTreesClassifier\n",
    "\n",
    "\n",
    "model_name = [\"Nearest Neighbors\",\n",
    "         \"Decision Tree\", \"Random Forest\", \"Neural Net\", \"AdaBoost\",\n",
    "         \"Naive Bayes\", \"QDA\", \"ExtraTreesClassifier\"]\n",
    "model_list = [\n",
    "    KNeighborsClassifier(1),\n",
    "    DecisionTreeClassifier(max_depth=10),\n",
    "    #RandomForestClassifier(max_depth=10, n_estimators=10, max_features=1),\n",
    "    RandomForestClassifier(n_estimators=116, max_depth=None, min_samples_split=2, random_state=1),\n",
    "    MLPClassifier(alpha=1, max_iter=1000),\n",
    "    AdaBoostClassifier(),\n",
    "    GaussianNB(),\n",
    "    QuadraticDiscriminantAnalysis(),\n",
    "    ExtraTreesClassifier()\n",
    "]"
   ]
  },
  {
   "cell_type": "code",
   "execution_count": 269,
   "metadata": {},
   "outputs": [],
   "source": [
    "from sklearn.model_selection import train_test_split\n",
    "\n",
    "from data_io import write\n",
    "from model import model\n",
    "\n",
    "from data_io import write\n",
    "\n",
    "from libscores import get_metric\n",
    "\n",
    "from sklearn.metrics import confusion_matrix\n",
    "import numpy as np\n",
    "import matplotlib.pyplot as plt\n",
    "\n",
    "from sklearn.metrics import make_scorer\n",
    "from sklearn.model_selection import cross_val_score"
   ]
  },
  {
   "cell_type": "code",
   "execution_count": 276,
   "metadata": {
    "scrolled": true
   },
   "outputs": [
    {
     "name": "stdout",
     "output_type": "stream",
     "text": [
      "FIT: dim(X)= [7203, 203]\n",
      "FIT: dim(y)= [7203, 1]\n",
      "PREDICT: dim(X)= [7203, 203]\n",
      "PREDICT: dim(y)= [7203, 1]\n",
      "PREDICT: dim(X)= [3549, 203]\n",
      "PREDICT: dim(y)= [3549, 1]\n",
      "sample_result_submission/plankton_test.predict\n",
      "sample_result_submission/plankton_train.predict\n",
      "sample_result_submission/plankton_valid.predict\n",
      "FIT: dim(X)= [3601, 203]\n",
      "FIT: dim(y)= [3601, 1]\n",
      "PREDICT: dim(X)= [3602, 203]\n",
      "PREDICT: dim(y)= [3602, 1]\n",
      "FIT: dim(X)= [3602, 203]\n",
      "FIT: dim(y)= [3602, 1]\n",
      "PREDICT: dim(X)= [3601, 203]\n",
      "PREDICT: dim(y)= [3601, 1]\n",
      ">>>>>> [0.63091643 0.63579053]\n",
      "FIT: dim(X)= [7203, 203]\n",
      "FIT: dim(y)= [7203, 1]\n",
      "PREDICT: dim(X)= [7203, 203]\n",
      "PREDICT: dim(y)= [7203, 1]\n",
      "PREDICT: dim(X)= [3549, 203]\n",
      "PREDICT: dim(y)= [3549, 1]\n",
      "sample_result_submission/plankton_test.predict\n",
      "sample_result_submission/plankton_train.predict\n",
      "sample_result_submission/plankton_valid.predict\n",
      "FIT: dim(X)= [3601, 203]\n",
      "FIT: dim(y)= [3601, 1]\n",
      "PREDICT: dim(X)= [3602, 203]\n",
      "PREDICT: dim(y)= [3602, 1]\n",
      "FIT: dim(X)= [3602, 203]\n",
      "FIT: dim(y)= [3602, 1]\n",
      "PREDICT: dim(X)= [3601, 203]\n",
      "PREDICT: dim(y)= [3601, 1]\n",
      ">>>>>> [0.58155672 0.5710776 ]\n",
      "FIT: dim(X)= [7203, 203]\n",
      "FIT: dim(y)= [7203, 1]\n",
      "PREDICT: dim(X)= [7203, 203]\n",
      "PREDICT: dim(y)= [7203, 1]\n",
      "PREDICT: dim(X)= [3549, 203]\n",
      "PREDICT: dim(y)= [3549, 1]\n",
      "sample_result_submission/plankton_test.predict\n",
      "sample_result_submission/plankton_train.predict\n",
      "sample_result_submission/plankton_valid.predict\n",
      "FIT: dim(X)= [3601, 203]\n",
      "FIT: dim(y)= [3601, 1]\n",
      "PREDICT: dim(X)= [3602, 203]\n",
      "PREDICT: dim(y)= [3602, 1]\n",
      "FIT: dim(X)= [3602, 203]\n",
      "FIT: dim(y)= [3602, 1]\n",
      "PREDICT: dim(X)= [3601, 203]\n",
      "PREDICT: dim(y)= [3601, 1]\n",
      ">>>>>> [0.69988146 0.70715314]\n",
      "FIT: dim(X)= [7203, 203]\n",
      "FIT: dim(y)= [7203, 1]\n",
      "PREDICT: dim(X)= [7203, 203]\n",
      "PREDICT: dim(y)= [7203, 1]\n",
      "PREDICT: dim(X)= [3549, 203]\n",
      "PREDICT: dim(y)= [3549, 1]\n",
      "sample_result_submission/plankton_test.predict\n",
      "sample_result_submission/plankton_train.predict\n",
      "sample_result_submission/plankton_valid.predict\n",
      "FIT: dim(X)= [3601, 203]\n",
      "FIT: dim(y)= [3601, 1]\n",
      "PREDICT: dim(X)= [3602, 203]\n",
      "PREDICT: dim(y)= [3602, 1]\n",
      "FIT: dim(X)= [3602, 203]\n",
      "FIT: dim(y)= [3602, 1]\n",
      "PREDICT: dim(X)= [3601, 203]\n",
      "PREDICT: dim(y)= [3601, 1]\n",
      ">>>>>> [0.50180797 0.50743006]\n",
      "FIT: dim(X)= [7203, 203]\n",
      "FIT: dim(y)= [7203, 1]\n",
      "PREDICT: dim(X)= [7203, 203]\n",
      "PREDICT: dim(y)= [7203, 1]\n",
      "PREDICT: dim(X)= [3549, 203]\n",
      "PREDICT: dim(y)= [3549, 1]\n",
      "sample_result_submission/plankton_test.predict\n",
      "sample_result_submission/plankton_train.predict\n",
      "sample_result_submission/plankton_valid.predict\n",
      "FIT: dim(X)= [3601, 203]\n",
      "FIT: dim(y)= [3601, 1]\n",
      "PREDICT: dim(X)= [3602, 203]\n",
      "PREDICT: dim(y)= [3602, 1]\n",
      "FIT: dim(X)= [3602, 203]\n",
      "FIT: dim(y)= [3602, 1]\n",
      "PREDICT: dim(X)= [3601, 203]\n",
      "PREDICT: dim(y)= [3601, 1]\n",
      ">>>>>> [0.38472742 0.33015422]\n",
      "FIT: dim(X)= [7203, 203]\n",
      "FIT: dim(y)= [7203, 1]\n",
      "PREDICT: dim(X)= [7203, 203]\n",
      "PREDICT: dim(y)= [7203, 1]\n",
      "PREDICT: dim(X)= [3549, 203]\n",
      "PREDICT: dim(y)= [3549, 1]\n",
      "sample_result_submission/plankton_test.predict\n",
      "sample_result_submission/plankton_train.predict\n",
      "sample_result_submission/plankton_valid.predict\n",
      "FIT: dim(X)= [3601, 203]\n",
      "FIT: dim(y)= [3601, 1]\n",
      "PREDICT: dim(X)= [3602, 203]\n",
      "PREDICT: dim(y)= [3602, 1]\n",
      "FIT: dim(X)= [3602, 203]\n",
      "FIT: dim(y)= [3602, 1]\n",
      "PREDICT: dim(X)= [3601, 203]\n",
      "PREDICT: dim(y)= [3601, 1]\n",
      ">>>>>> [0.42849287 0.42741927]\n",
      "FIT: dim(X)= [7203, 203]\n",
      "FIT: dim(y)= [7203, 1]\n",
      "PREDICT: dim(X)= [7203, 203]\n",
      "PREDICT: dim(y)= [7203, 1]\n",
      "PREDICT: dim(X)= [3549, 203]\n",
      "PREDICT: dim(y)= [3549, 1]\n",
      "sample_result_submission/plankton_test.predict\n",
      "sample_result_submission/plankton_train.predict\n",
      "sample_result_submission/plankton_valid.predict\n",
      "FIT: dim(X)= [3601, 203]\n",
      "FIT: dim(y)= [3601, 1]\n",
      "PREDICT: dim(X)= [3602, 203]\n",
      "PREDICT: dim(y)= [3602, 1]\n",
      "FIT: dim(X)= [3602, 203]\n",
      "FIT: dim(y)= [3602, 1]\n",
      "PREDICT: dim(X)= [3601, 203]\n",
      "PREDICT: dim(y)= [3601, 1]\n"
     ]
    },
    {
     "name": "stderr",
     "output_type": "stream",
     "text": [
      "/opt/anaconda3/lib/python3.7/site-packages/sklearn/discriminant_analysis.py:692: UserWarning: Variables are collinear\n",
      "  warnings.warn(\"Variables are collinear\")\n"
     ]
    },
    {
     "name": "stdout",
     "output_type": "stream",
     "text": [
      ">>>>>> [0.44875954 0.45842774]\n",
      "FIT: dim(X)= [7203, 203]\n",
      "FIT: dim(y)= [7203, 1]\n",
      "PREDICT: dim(X)= [7203, 203]\n",
      "PREDICT: dim(y)= [7203, 1]\n",
      "PREDICT: dim(X)= [3549, 203]\n",
      "PREDICT: dim(y)= [3549, 1]\n",
      "sample_result_submission/plankton_test.predict\n",
      "sample_result_submission/plankton_train.predict\n",
      "sample_result_submission/plankton_valid.predict\n",
      "FIT: dim(X)= [3601, 203]\n",
      "FIT: dim(y)= [3601, 1]\n",
      "PREDICT: dim(X)= [3602, 203]\n",
      "PREDICT: dim(y)= [3602, 1]\n",
      "FIT: dim(X)= [3602, 203]\n",
      "FIT: dim(y)= [3602, 1]\n",
      "PREDICT: dim(X)= [3601, 203]\n",
      "PREDICT: dim(y)= [3601, 1]\n",
      ">>>>>> [0.64323916 0.63187   ]\n"
     ]
    }
   ],
   "source": [
    "\"\"\"\n",
    "model_name = [\"rf1\", \"ExtraTreesClassifier\", \"Random Forest\"]\n",
    "model_list = [\n",
    "    RandomForestClassifier(n_estimators=100, max_depth=None, min_samples_split=2, random_state=0),\n",
    "    ExtraTreesClassifier(n_estimators=2),\n",
    "    RandomForestClassifier(n_estimators=2, max_depth=None, min_samples_split=2, random_state=1),\n",
    "]\"\"\"\n",
    "\n",
    "res1, res2, res3, res4 = finBest(model_name, model_list)"
   ]
  },
  {
   "cell_type": "code",
   "execution_count": 277,
   "metadata": {},
   "outputs": [
    {
     "data": {
      "text/html": [
       "<div>\n",
       "<style scoped>\n",
       "    .dataframe tbody tr th:only-of-type {\n",
       "        vertical-align: middle;\n",
       "    }\n",
       "\n",
       "    .dataframe tbody tr th {\n",
       "        vertical-align: top;\n",
       "    }\n",
       "\n",
       "    .dataframe thead th {\n",
       "        text-align: right;\n",
       "    }\n",
       "</style>\n",
       "<table border=\"1\" class=\"dataframe\">\n",
       "  <thead>\n",
       "    <tr style=\"text-align: right;\">\n",
       "      <th></th>\n",
       "      <th>Model</th>\n",
       "      <th>Cross-Validation</th>\n",
       "      <th>train</th>\n",
       "      <th>valid</th>\n",
       "    </tr>\n",
       "  </thead>\n",
       "  <tbody>\n",
       "    <tr>\n",
       "      <th>0</th>\n",
       "      <td>Nearest Neighbors</td>\n",
       "      <td>0.633353</td>\n",
       "      <td>0.999861</td>\n",
       "      <td>0.700479</td>\n",
       "    </tr>\n",
       "    <tr>\n",
       "      <th>1</th>\n",
       "      <td>Decision Tree</td>\n",
       "      <td>0.576317</td>\n",
       "      <td>0.747050</td>\n",
       "      <td>0.612567</td>\n",
       "    </tr>\n",
       "    <tr>\n",
       "      <th>2</th>\n",
       "      <td>Random Forest</td>\n",
       "      <td>0.703517</td>\n",
       "      <td>0.999861</td>\n",
       "      <td>0.773739</td>\n",
       "    </tr>\n",
       "    <tr>\n",
       "      <th>3</th>\n",
       "      <td>Neural Net</td>\n",
       "      <td>0.504619</td>\n",
       "      <td>0.494100</td>\n",
       "      <td>0.489997</td>\n",
       "    </tr>\n",
       "    <tr>\n",
       "      <th>4</th>\n",
       "      <td>AdaBoost</td>\n",
       "      <td>0.357441</td>\n",
       "      <td>0.425795</td>\n",
       "      <td>0.435616</td>\n",
       "    </tr>\n",
       "    <tr>\n",
       "      <th>5</th>\n",
       "      <td>Naive Bayes</td>\n",
       "      <td>0.427956</td>\n",
       "      <td>0.434264</td>\n",
       "      <td>0.441815</td>\n",
       "    </tr>\n",
       "    <tr>\n",
       "      <th>6</th>\n",
       "      <td>QDA</td>\n",
       "      <td>0.453594</td>\n",
       "      <td>0.678745</td>\n",
       "      <td>0.475345</td>\n",
       "    </tr>\n",
       "    <tr>\n",
       "      <th>7</th>\n",
       "      <td>ExtraTreesClassifier</td>\n",
       "      <td>0.637555</td>\n",
       "      <td>0.999861</td>\n",
       "      <td>0.706960</td>\n",
       "    </tr>\n",
       "  </tbody>\n",
       "</table>\n",
       "</div>"
      ],
      "text/plain": [
       "                 Model   Cross-Validation     train     valid \n",
       "0     Nearest Neighbors           0.633353  0.999861  0.700479\n",
       "1         Decision Tree           0.576317  0.747050  0.612567\n",
       "2         Random Forest           0.703517  0.999861  0.773739\n",
       "3            Neural Net           0.504619  0.494100  0.489997\n",
       "4              AdaBoost           0.357441  0.425795  0.435616\n",
       "5           Naive Bayes           0.427956  0.434264  0.441815\n",
       "6                   QDA           0.453594  0.678745  0.475345\n",
       "7  ExtraTreesClassifier           0.637555  0.999861  0.706960"
      ]
     },
     "execution_count": 277,
     "metadata": {},
     "output_type": "execute_result"
    }
   ],
   "source": [
    "#affiche_models(res.append(res1,res2,res3)) # comment we use panda to display a proper table\n",
    "frame = pd.DataFrame(\n",
    "    {\n",
    "                    \"Model \" : res1,\n",
    "                    \"Cross-Validation \": res2,\n",
    "                    \"train \": res3,\n",
    "                    \"valid \": res4,\n",
    "    }\n",
    ")\n",
    "\n",
    "frame"
   ]
  },
  {
   "cell_type": "code",
   "execution_count": 279,
   "metadata": {},
   "outputs": [
    {
     "data": {
      "text/plain": [
       "module"
      ]
     },
     "execution_count": 279,
     "metadata": {},
     "output_type": "execute_result"
    },
    {
     "data": {
      "image/png": "[encoded data removed]",
      "text/plain": [
       "<Figure size 640x480 with 1 Axes>"
      ]
     },
     "metadata": {},
     "output_type": "display_data"
    }
   ],
   "source": [
    "from sklearn.metrics import balanced_accuracy_score as sklearn_metric\n",
    "\n",
    "frame[['Cross-Validation ', 'valid ', 'train ']].plot.bar()\n",
    "#plt.ylim(0.5, 1)\n",
    "plt.ylabel(sklearn_metric.__name__)\n",
    "\n",
    "type(plt)"
   ]
  },
  {
   "cell_type": "markdown",
   "metadata": {},
   "source": [
    "## sklearn.ensemble.RandomForestClassifier:\n",
    "The two best models are ExtraTreesCLassieer and RandomForest because they have th best CV score far away the other models, they look over-fitted because of the differnece between the train and the valid data. \n",
    "\n",
    "### Sometimes I have the same metric between train and valid for the two models, maybe it is because of the seed ?? I can't conclude right now, I am going to ask the teacher next Friday.\n",
    "\n",
    "### ==> IS THERE A PROBLEME ???? But after many tests the two best model are still ExtraTreesCLassieer and RandomForest\n",
    "\n",
    "### In conclusion of these probleme is that we find that the data are the problem, what ever we do we always overfit. To fix this this probleme, we look at the CV and the valid column to select the best model. So we can say that the best model is the Random forest. It is a real problem because we can't find the best parameters, even when we use RandomizedSearchCV below. I have tryed to fix probleme with using one global seed. "
   ]
  },
  {
   "cell_type": "markdown",
   "metadata": {},
   "source": [
    "# We now use scikit functions to find the best parameters for the best model\n",
    "\n",
    "## sklearn.ensemble.RandomForestClassifier:\n",
    "\n",
    "Advantages of RandomForestClassifier:\n",
    " - the algorithm is not biased beceause it looks at the entirety of the data\n",
    " - the algorithm is stable because it not affect it when new data is intoduced, especially when the new data affects one tree in particular\n",
    " - works well with data that isn't scaled\n",
    "\n",
    "Disadvantages of using RandomForestClassifier:\n",
    "- Complexity, but in our case we do not use big data (>100k)\n",
    "- take much more more time beceause of the complexity\n",
    "\n",
    "The parameters:\n",
    "- n_estimators: represents the number of trees in the forest. Usually higher number of trees improve the conditions to learn on the data. However, adding a lot of trees can slow down the training process considerably. Therefore we do a parameter search to find the sweet spot, with RandomizedSearchCV for instance.\n",
    "- max_depth: represents the depth of each tree in the forest. The deeper the  tree, the more \"splitted\" it becomes and the more information about the data it captures. max_depth equals None means nodes are expanded until all leaves are pure or until all leaves contain less than min_samples_split samples.\n",
    "- min_samples_split: represents the minimum number of samples required to split an internal node. This can vary from one sample per node to all the samples for each node. When we increase this parameter, each tree in the forest becomes more constrained as it has to consider more samples for each node.\n",
    "- min_samples_leaf: the minimum number of samples required to be at a leaf node. This parameter is similar to min_samples_splits, however it describes the minimum number of samples at the leaves, the base of the tree.\n",
    "\n",
    "\n",
    "Over-fitting:\n",
    "- over-fitting occurs when the model has good performance (scores) on the training data but not on the valid data\n",
    "\n",
    "Under-fitting:\n",
    "- iunder-fitting occurs when the model does not have good performances (scores) on the training and valid data\n",
    "\n",
    "\n",
    "If we run tests with ExtraTreesCLassifier, the CV score is the same as Random Forest. We read that the algorithms are very similar and this is also maybe because extreme trees seem to keep a higher performance in presence of noisy features (like the seventh class for example). We can also see that they have the same parameters (the ones shown above). I left the tests down below."
   ]
  },
  {
   "cell_type": "code",
   "execution_count": 296,
   "metadata": {},
   "outputs": [
    {
     "data": {
      "text/plain": [
       "(7203, 203)"
      ]
     },
     "execution_count": 296,
     "metadata": {},
     "output_type": "execute_result"
    }
   ],
   "source": [
    "X_train.shape"
   ]
  },
  {
   "cell_type": "code",
   "execution_count": 307,
   "metadata": {},
   "outputs": [],
   "source": [
    "from sklearn.linear_model import LogisticRegression\n",
    "from sklearn.model_selection import RandomizedSearchCV\n",
    "from scipy.stats import uniform\n",
    "\n",
    "def best_param_MODEL(logistic, distributions): \n",
    "    \"\"\"\n",
    "    This function finds the best parameters for the RandomizedSearchCV model and returns the best parameters\n",
    "    \n",
    "    Parameters\n",
    "    ----------\n",
    "    logistic: model's name\n",
    "    distributions: dictionary of the different parameters of the model that will be tested\n",
    "\n",
    "\n",
    "    Returns\n",
    "    ------\n",
    "    search: the best parameters\n",
    "\n",
    "    \"\"\"\n",
    "    metric_name, scoring_function = get_metric()\n",
    "\n",
    "    clf = RandomizedSearchCV(logistic, distributions, random_state=0, scoring=make_scorer(scoring_function) )\n",
    "    search = clf.fit(X_train, Y_train)\n",
    "    search.best_params_\n",
    "    return search"
   ]
  },
  {
   "cell_type": "code",
   "execution_count": 308,
   "metadata": {},
   "outputs": [
    {
     "data": {
      "text/plain": [
       "\"\\n#KNeighborsClassifier\\nlogistic = KNeighborsClassifier(7)\\ndistributions = dict(n_neighbors=np.arange(0,10), algorithm=['auto', 'ball_tree', 'kd_tree', 'brute'])\\n\\n#ExtraTreesClassifier\\nlogistic = ExtraTreesClassifier()\\ndistributions = dict(n_estimators=np.arange(0,100))\""
      ]
     },
     "execution_count": 308,
     "metadata": {},
     "output_type": "execute_result"
    }
   ],
   "source": [
    "#RandomForestClassifier\n",
    "logistic = RandomForestClassifier()\n",
    "# first tests\n",
    "#distributions = dict( n_estimators=np.arange(0,200) , min_samples_split=[0,1,2],random_state=np.arange(0,20,1), min_samples_leaf=np.arange(0,20,1) )\n",
    "#{'random_state': 19, 'n_estimators': 196, 'min_samples_split': 2, 'min_samples_leaf': 7} \n",
    "# bad results\n",
    "\n",
    "distributions = dict( n_estimators=np.arange(10,200) , min_samples_split=[2],random_state=[0,1,2] )\n",
    "# best results when we don't use min_samples_leaf et set it as default parameters\n",
    "\n",
    "\n",
    "\n",
    "\n",
    "\"\"\"\n",
    "#KNeighborsClassifier\n",
    "logistic = KNeighborsClassifier(7)\n",
    "distributions = dict(n_neighbors=np.arange(0,10), algorithm=['auto', 'ball_tree', 'kd_tree', 'brute'])\n",
    "\n",
    "#ExtraTreesClassifier\n",
    "logistic = ExtraTreesClassifier()\n",
    "distributions = dict(n_estimators=np.arange(0,100))\"\"\""
   ]
  },
  {
   "cell_type": "code",
   "execution_count": 309,
   "metadata": {
    "scrolled": true
   },
   "outputs": [
    {
     "data": {
      "text/plain": [
       "{'random_state': 0, 'n_estimators': 153, 'min_samples_split': 2}"
      ]
     },
     "execution_count": 309,
     "metadata": {},
     "output_type": "execute_result"
    }
   ],
   "source": [
    "search = best_param_MODEL(logistic, distributions)\n",
    "\n",
    "search.best_params_"
   ]
  },
  {
   "cell_type": "code",
   "execution_count": 310,
   "metadata": {},
   "outputs": [
    {
     "data": {
      "text/plain": [
       "{'mean_fit_time': array([1.38607804, 1.65320683, 0.92776934, 2.82858713, 0.38160841,\n",
       "        3.09385276, 2.35193737, 2.69045544, 2.12956651, 1.91181215]),\n",
       " 'std_fit_time': array([0.06392897, 0.00645528, 0.00991287, 0.00513823, 0.00084811,\n",
       "        0.00793236, 0.01008631, 0.07964413, 0.01114713, 0.00775657]),\n",
       " 'mean_score_time': array([0.0324355 , 0.04079398, 0.02392753, 0.0684727 , 0.01125924,\n",
       "        0.07434686, 0.05706223, 0.0726401 , 0.05180971, 0.04718876]),\n",
       " 'std_score_time': array([4.07738541e-04, 1.83677477e-04, 2.00104391e-05, 1.29919872e-04,\n",
       "        7.79343944e-05, 8.87150660e-05, 1.01539323e-04, 1.34365218e-02,\n",
       "        5.42918886e-05, 3.61012076e-04]),\n",
       " 'param_random_state': masked_array(data=[1, 0, 0, 0, 1, 0, 0, 0, 2, 2],\n",
       "              mask=[False, False, False, False, False, False, False, False,\n",
       "                    False, False],\n",
       "        fill_value='?',\n",
       "             dtype=object),\n",
       " 'param_n_estimators': masked_array(data=[75, 97, 54, 166, 22, 182, 138, 153, 125, 112],\n",
       "              mask=[False, False, False, False, False, False, False, False,\n",
       "                    False, False],\n",
       "        fill_value='?',\n",
       "             dtype=object),\n",
       " 'param_min_samples_split': masked_array(data=[2, 2, 2, 2, 2, 2, 2, 2, 2, 2],\n",
       "              mask=[False, False, False, False, False, False, False, False,\n",
       "                    False, False],\n",
       "        fill_value='?',\n",
       "             dtype=object),\n",
       " 'params': [{'random_state': 1, 'n_estimators': 75, 'min_samples_split': 2},\n",
       "  {'random_state': 0, 'n_estimators': 97, 'min_samples_split': 2},\n",
       "  {'random_state': 0, 'n_estimators': 54, 'min_samples_split': 2},\n",
       "  {'random_state': 0, 'n_estimators': 166, 'min_samples_split': 2},\n",
       "  {'random_state': 1, 'n_estimators': 22, 'min_samples_split': 2},\n",
       "  {'random_state': 0, 'n_estimators': 182, 'min_samples_split': 2},\n",
       "  {'random_state': 0, 'n_estimators': 138, 'min_samples_split': 2},\n",
       "  {'random_state': 0, 'n_estimators': 153, 'min_samples_split': 2},\n",
       "  {'random_state': 2, 'n_estimators': 125, 'min_samples_split': 2},\n",
       "  {'random_state': 2, 'n_estimators': 112, 'min_samples_split': 2}],\n",
       " 'split0_test_score': array([0.71970012, 0.7209496 , 0.71470221, 0.73052895, 0.69179509,\n",
       "        0.72927947, 0.73219492, 0.7334444 , 0.73802582, 0.73469388]),\n",
       " 'split1_test_score': array([0.72386506, 0.73177843, 0.7151187 , 0.73802582, 0.70012495,\n",
       "        0.73511037, 0.73302791, 0.73760933, 0.72761349, 0.72761349]),\n",
       " 'split2_test_score': array([0.71470221, 0.72511454, 0.71970012, 0.72428155, 0.69429404,\n",
       "        0.72761349, 0.7213661 , 0.72428155, 0.72844648, 0.72594752]),\n",
       " 'mean_test_score': array([0.71942246, 0.72594752, 0.71650701, 0.73094544, 0.69540469,\n",
       "        0.73066778, 0.72886297, 0.73177843, 0.73136193, 0.7294183 ]),\n",
       " 'std_test_score': array([0.00374587, 0.00445991, 0.00226427, 0.0056188 , 0.00349016,\n",
       "        0.00321417, 0.00531199, 0.00556711, 0.00472434, 0.00379189]),\n",
       " 'rank_test_score': array([ 8,  7,  9,  3, 10,  4,  6,  1,  2,  5], dtype=int32),\n",
       " 'split0_train_score': array([1.        , 1.        , 1.        , 1.        , 0.99958351,\n",
       "        1.        , 1.        , 1.        , 1.        , 1.        ]),\n",
       " 'split1_train_score': array([1.        , 1.        , 1.        , 1.        , 0.99979175,\n",
       "        1.        , 1.        , 1.        , 1.        , 1.        ]),\n",
       " 'split2_train_score': array([1.        , 1.        , 1.        , 1.        , 0.99958351,\n",
       "        1.        , 1.        , 1.        , 1.        , 1.        ]),\n",
       " 'mean_train_score': array([1.        , 1.        , 1.        , 1.        , 0.99965292,\n",
       "        1.        , 1.        , 1.        , 1.        , 1.        ]),\n",
       " 'std_train_score': array([0.00000000e+00, 0.00000000e+00, 0.00000000e+00, 0.00000000e+00,\n",
       "        9.81683717e-05, 0.00000000e+00, 0.00000000e+00, 0.00000000e+00,\n",
       "        0.00000000e+00, 0.00000000e+00])}"
      ]
     },
     "execution_count": 310,
     "metadata": {},
     "output_type": "execute_result"
    }
   ],
   "source": [
    "search.cv_results_"
   ]
  },
  {
   "cell_type": "markdown",
   "metadata": {},
   "source": [
    "# We tyred this, but it stills overfit ..."
   ]
  },
  {
   "cell_type": "code",
   "execution_count": 187,
   "metadata": {},
   "outputs": [],
   "source": [
    "def doBestModel(Model_final):\n",
    "    \"\"\"\n",
    "    Runs the final model with best parameters \n",
    "    We then calculate the cross-validation and training performance    \n",
    "    \n",
    "    ----------\n",
    "    Model_final: the best model with the best parameters\n",
    "\n",
    "\n",
    "    Void\n",
    "    ------\n",
    "    show the CV score\n",
    "\n",
    "    \"\"\"\n",
    "\n",
    "    M = Model_final\n",
    "    if not(M.is_trained):\n",
    "        M.fit(X_train, Y_train)\n",
    "        \n",
    "    trained_model_name = model_dir + data_name\n",
    "\n",
    "    #Y_hat_train = M.predict(D.data['X_train']) # Optional, not really needed to test on training examples\n",
    "    Y_hat_train = M.predict(X_train) # new size of X_train\n",
    "    Y_hat_valid = M.predict(X_valid)\n",
    "    Y_hat_test = M.predict(D.data['X_test'])\n",
    "\n",
    "\n",
    "    M.save(trained_model_name)                 \n",
    "    result_name = result_dir + data_name\n",
    "    from data_io import write\n",
    "    write(result_name + '_train.predict', Y_hat_train)\n",
    "    write(result_name + '_valid.predict', Y_hat_valid)\n",
    "    write(result_name + '_test.predict', Y_hat_test)\n",
    "    !ls $result_name*\n",
    "\n",
    "    metric_name, scoring_function = get_metric()\n",
    "    scores = cross_val_score(M, X_train, Y_train, cv=2, scoring=make_scorer(scoring_function))\n",
    "    print('Training train score for the', metric_name, 'metric = %5.4f' % scoring_function(Y_train, Y_hat_train))\n",
    "    print('Training valid score for the', metric_name, 'metric = %5.4f' % scoring_function(Y_valid, Y_hat_valid))\n",
    "    print('\\nCV score (95 perc. CI): %0.2f (+/- %0.2f)' % (scores.mean(), scores.std() * 2))\n",
    "    "
   ]
  },
  {
   "cell_type": "code",
   "execution_count": 188,
   "metadata": {
    "scrolled": true
   },
   "outputs": [
    {
     "name": "stdout",
     "output_type": "stream",
     "text": [
      "FIT: dim(X)= [7203, 203]\n",
      "FIT: dim(y)= [7203, 1]\n"
     ]
    },
    {
     "name": "stderr",
     "output_type": "stream",
     "text": [
      "sample_code_submission/model.py:56: DataConversionWarning: A column-vector y was passed when a 1d array was expected. Please change the shape of y to (n_samples,), for example using ravel().\n",
      "  self.classifier.fit(X,y)\n"
     ]
    },
    {
     "name": "stdout",
     "output_type": "stream",
     "text": [
      "PREDICT: dim(X)= [7203, 203]\n",
      "PREDICT: dim(y)= [7203, 1]\n",
      "PREDICT: dim(X)= [3549, 203]\n",
      "PREDICT: dim(y)= [3549, 1]\n",
      "PREDICT: dim(X)= [3584, 203]\n",
      "PREDICT: dim(y)= [3584, 1]\n",
      "sample_result_submission/plankton_test.predict\n",
      "sample_result_submission/plankton_train.predict\n",
      "sample_result_submission/plankton_valid.predict\n",
      "FIT: dim(X)= [3601, 203]\n",
      "FIT: dim(y)= [3601, 1]\n"
     ]
    },
    {
     "name": "stderr",
     "output_type": "stream",
     "text": [
      "sample_code_submission/model.py:56: DataConversionWarning: A column-vector y was passed when a 1d array was expected. Please change the shape of y to (n_samples,), for example using ravel().\n",
      "  self.classifier.fit(X,y)\n"
     ]
    },
    {
     "name": "stdout",
     "output_type": "stream",
     "text": [
      "PREDICT: dim(X)= [3602, 203]\n",
      "PREDICT: dim(y)= [3602, 1]\n",
      "FIT: dim(X)= [3602, 203]\n",
      "FIT: dim(y)= [3602, 1]\n"
     ]
    },
    {
     "name": "stderr",
     "output_type": "stream",
     "text": [
      "sample_code_submission/model.py:56: DataConversionWarning: A column-vector y was passed when a 1d array was expected. Please change the shape of y to (n_samples,), for example using ravel().\n",
      "  self.classifier.fit(X,y)\n"
     ]
    },
    {
     "name": "stdout",
     "output_type": "stream",
     "text": [
      "PREDICT: dim(X)= [3601, 203]\n",
      "PREDICT: dim(y)= [3601, 1]\n",
      "Training train score for the balanced_accuracy_score metric = 1.0000\n",
      "Training valid score for the balanced_accuracy_score metric = 0.7687\n",
      "\n",
      "CV score (95 perc. CI): 0.70 (+/- 0.00)\n"
     ]
    }
   ],
   "source": [
    "Model_final = model(  RandomForestClassifier(n_estimators=100, max_depth=None, min_samples_split=2, random_state=0) )\n",
    "#Model_final = model(  RandomForestClassifier(n_estimators=182, max_depth=None, min_samples_split=2, random_state=1) ) #also good parameters\n",
    "doBestModel(Model_final)"
   ]
  },
  {
   "cell_type": "code",
   "execution_count": 184,
   "metadata": {
    "scrolled": true
   },
   "outputs": [],
   "source": [
    "logistic = ExtraTreesClassifier()\n",
    "distributions = dict( n_estimators=np.arange(0,200))\n",
    "#search = best_param_MODEL(logistic, distributions)\n",
    "#search.best_params_"
   ]
  },
  {
   "cell_type": "code",
   "execution_count": null,
   "metadata": {},
   "outputs": [],
   "source": [
    "Model_final = model(ExtraTreesClassifier (n_estimators=152)) \n",
    "#doBestModel(Model_final) #CV score (95 perc. CI): 0.78 (+/- 0.01)"
   ]
  },
  {
   "cell_type": "code",
   "execution_count": null,
   "metadata": {},
   "outputs": [],
   "source": [
    "#Model_final = model(  RandomForestClassifier(n_estimators=116, max_depth=None, min_samples_split=2, random_state=1)) \n",
    "#doBestModel(Model_final)"
   ]
  },
  {
   "cell_type": "markdown",
   "metadata": {},
   "source": [
    "## Stack and Voting\n",
    "\n",
    "The main difference between stacking and voting and voting is that stacking looks at the highest probability for a given data calculated by all the models. While voting looks at the highest number of data allocation of all models, for example if three model of 4 choose the feature 1, then it will be the feature 1.\n",
    "\n",
    "We are going to work here on the stacking. I have choosen the three best models, and best parameters that I tested (with cv ). I also tryed to correct the over-fitting of my data."
   ]
  },
  {
   "cell_type": "code",
   "execution_count": 347,
   "metadata": {},
   "outputs": [],
   "source": [
    "model_list = [\n",
    "   ('rf', ExtraTreesClassifier()),\n",
    "    ('knb',     KNeighborsClassifier(1),\n",
    "        ('rfc',RandomForestClassifier(n_estimators=116, max_depth=None, min_samples_split=2, random_state=1)),\n",
    ")\n",
    "]"
   ]
  },
  {
   "cell_type": "code",
   "execution_count": 348,
   "metadata": {},
   "outputs": [
    {
     "ename": "ImportError",
     "evalue": "cannot import name 'StackingClassifier' from 'sklearn.ensemble' (/opt/anaconda3/lib/python3.7/site-packages/sklearn/ensemble/__init__.py)",
     "output_type": "error",
     "traceback": [
      "\u001b[0;31m---------------------------------------------------------------------------\u001b[0m",
      "\u001b[0;31mImportError\u001b[0m                               Traceback (most recent call last)",
      "\u001b[0;32m<ipython-input-348-88ba756810fe>\u001b[0m in \u001b[0;36m<module>\u001b[0;34m\u001b[0m\n\u001b[0;32m----> 1\u001b[0;31m \u001b[0;32mfrom\u001b[0m \u001b[0msklearn\u001b[0m\u001b[0;34m.\u001b[0m\u001b[0mensemble\u001b[0m \u001b[0;32mimport\u001b[0m \u001b[0mStackingClassifier\u001b[0m\u001b[0;34m\u001b[0m\u001b[0;34m\u001b[0m\u001b[0m\n\u001b[0m\u001b[1;32m      2\u001b[0m \u001b[0;32mfrom\u001b[0m \u001b[0msklearn\u001b[0m\u001b[0;34m.\u001b[0m\u001b[0mlinear_model\u001b[0m \u001b[0;32mimport\u001b[0m \u001b[0mLogisticRegression\u001b[0m\u001b[0;34m\u001b[0m\u001b[0;34m\u001b[0m\u001b[0m\n",
      "\u001b[0;31mImportError\u001b[0m: cannot import name 'StackingClassifier' from 'sklearn.ensemble' (/opt/anaconda3/lib/python3.7/site-packages/sklearn/ensemble/__init__.py)"
     ]
    }
   ],
   "source": [
    "from sklearn.ensemble import StackingClassifier\n",
    "from sklearn.linear_model import LogisticRegression"
   ]
  },
  {
   "cell_type": "code",
   "execution_count": 63,
   "metadata": {},
   "outputs": [
    {
     "name": "stdout",
     "output_type": "stream",
     "text": [
      "FIT: dim(X)= [7203, 203]\n",
      "FIT: dim(y)= [7203, 1]\n"
     ]
    },
    {
     "name": "stderr",
     "output_type": "stream",
     "text": [
      "/home/ramdane/.local/lib/python3.7/site-packages/sklearn/preprocessing/_label.py:235: DataConversionWarning: A column-vector y was passed when a 1d array was expected. Please change the shape of y to (n_samples, ), for example using ravel().\n",
      "  y = column_or_1d(y, warn=True)\n",
      "/home/ramdane/.local/lib/python3.7/site-packages/sklearn/preprocessing/_label.py:268: DataConversionWarning: A column-vector y was passed when a 1d array was expected. Please change the shape of y to (n_samples, ), for example using ravel().\n",
      "  y = column_or_1d(y, warn=True)\n",
      "/home/ramdane/.local/lib/python3.7/site-packages/sklearn/linear_model/_logistic.py:940: ConvergenceWarning: lbfgs failed to converge (status=1):\n",
      "STOP: TOTAL NO. of ITERATIONS REACHED LIMIT.\n",
      "\n",
      "Increase the number of iterations (max_iter) or scale the data as shown in:\n",
      "    https://scikit-learn.org/stable/modules/preprocessing.html\n",
      "Please also refer to the documentation for alternative solver options:\n",
      "    https://scikit-learn.org/stable/modules/linear_model.html#logistic-regression\n",
      "  extra_warning_msg=_LOGISTIC_SOLVER_CONVERGENCE_MSG)\n"
     ]
    },
    {
     "name": "stdout",
     "output_type": "stream",
     "text": [
      "PREDICT: dim(X)= [7203, 203]\n",
      "PREDICT: dim(y)= [7203, 1]\n",
      "PREDICT: dim(X)= [3549, 203]\n",
      "PREDICT: dim(y)= [3549, 1]\n",
      "PREDICT: dim(X)= [3584, 203]\n",
      "PREDICT: dim(y)= [3584, 1]\n",
      "sample_result_submission/plankton_test.predict\n",
      "sample_result_submission/plankton_train.predict\n",
      "sample_result_submission/plankton_valid.predict\n",
      "FIT: dim(X)= [5762, 203]\n",
      "FIT: dim(y)= [5762, 1]\n"
     ]
    },
    {
     "name": "stderr",
     "output_type": "stream",
     "text": [
      "/home/ramdane/.local/lib/python3.7/site-packages/sklearn/preprocessing/_label.py:235: DataConversionWarning: A column-vector y was passed when a 1d array was expected. Please change the shape of y to (n_samples, ), for example using ravel().\n",
      "  y = column_or_1d(y, warn=True)\n",
      "/home/ramdane/.local/lib/python3.7/site-packages/sklearn/preprocessing/_label.py:268: DataConversionWarning: A column-vector y was passed when a 1d array was expected. Please change the shape of y to (n_samples, ), for example using ravel().\n",
      "  y = column_or_1d(y, warn=True)\n",
      "/home/ramdane/.local/lib/python3.7/site-packages/sklearn/linear_model/_logistic.py:940: ConvergenceWarning: lbfgs failed to converge (status=1):\n",
      "STOP: TOTAL NO. of ITERATIONS REACHED LIMIT.\n",
      "\n",
      "Increase the number of iterations (max_iter) or scale the data as shown in:\n",
      "    https://scikit-learn.org/stable/modules/preprocessing.html\n",
      "Please also refer to the documentation for alternative solver options:\n",
      "    https://scikit-learn.org/stable/modules/linear_model.html#logistic-regression\n",
      "  extra_warning_msg=_LOGISTIC_SOLVER_CONVERGENCE_MSG)\n"
     ]
    },
    {
     "name": "stdout",
     "output_type": "stream",
     "text": [
      "PREDICT: dim(X)= [1441, 203]\n",
      "PREDICT: dim(y)= [1441, 1]\n",
      "FIT: dim(X)= [5762, 203]\n",
      "FIT: dim(y)= [5762, 1]\n"
     ]
    },
    {
     "name": "stderr",
     "output_type": "stream",
     "text": [
      "/home/ramdane/.local/lib/python3.7/site-packages/sklearn/preprocessing/_label.py:235: DataConversionWarning: A column-vector y was passed when a 1d array was expected. Please change the shape of y to (n_samples, ), for example using ravel().\n",
      "  y = column_or_1d(y, warn=True)\n",
      "/home/ramdane/.local/lib/python3.7/site-packages/sklearn/preprocessing/_label.py:268: DataConversionWarning: A column-vector y was passed when a 1d array was expected. Please change the shape of y to (n_samples, ), for example using ravel().\n",
      "  y = column_or_1d(y, warn=True)\n",
      "/home/ramdane/.local/lib/python3.7/site-packages/sklearn/linear_model/_logistic.py:940: ConvergenceWarning: lbfgs failed to converge (status=1):\n",
      "STOP: TOTAL NO. of ITERATIONS REACHED LIMIT.\n",
      "\n",
      "Increase the number of iterations (max_iter) or scale the data as shown in:\n",
      "    https://scikit-learn.org/stable/modules/preprocessing.html\n",
      "Please also refer to the documentation for alternative solver options:\n",
      "    https://scikit-learn.org/stable/modules/linear_model.html#logistic-regression\n",
      "  extra_warning_msg=_LOGISTIC_SOLVER_CONVERGENCE_MSG)\n"
     ]
    },
    {
     "name": "stdout",
     "output_type": "stream",
     "text": [
      "PREDICT: dim(X)= [1441, 203]\n",
      "PREDICT: dim(y)= [1441, 1]\n",
      "FIT: dim(X)= [5762, 203]\n",
      "FIT: dim(y)= [5762, 1]\n"
     ]
    },
    {
     "name": "stderr",
     "output_type": "stream",
     "text": [
      "/home/ramdane/.local/lib/python3.7/site-packages/sklearn/preprocessing/_label.py:235: DataConversionWarning: A column-vector y was passed when a 1d array was expected. Please change the shape of y to (n_samples, ), for example using ravel().\n",
      "  y = column_or_1d(y, warn=True)\n",
      "/home/ramdane/.local/lib/python3.7/site-packages/sklearn/preprocessing/_label.py:268: DataConversionWarning: A column-vector y was passed when a 1d array was expected. Please change the shape of y to (n_samples, ), for example using ravel().\n",
      "  y = column_or_1d(y, warn=True)\n",
      "/home/ramdane/.local/lib/python3.7/site-packages/sklearn/linear_model/_logistic.py:940: ConvergenceWarning: lbfgs failed to converge (status=1):\n",
      "STOP: TOTAL NO. of ITERATIONS REACHED LIMIT.\n",
      "\n",
      "Increase the number of iterations (max_iter) or scale the data as shown in:\n",
      "    https://scikit-learn.org/stable/modules/preprocessing.html\n",
      "Please also refer to the documentation for alternative solver options:\n",
      "    https://scikit-learn.org/stable/modules/linear_model.html#logistic-regression\n",
      "  extra_warning_msg=_LOGISTIC_SOLVER_CONVERGENCE_MSG)\n"
     ]
    },
    {
     "name": "stdout",
     "output_type": "stream",
     "text": [
      "PREDICT: dim(X)= [1441, 203]\n",
      "PREDICT: dim(y)= [1441, 1]\n",
      "FIT: dim(X)= [5763, 203]\n",
      "FIT: dim(y)= [5763, 1]\n"
     ]
    },
    {
     "name": "stderr",
     "output_type": "stream",
     "text": [
      "/home/ramdane/.local/lib/python3.7/site-packages/sklearn/preprocessing/_label.py:235: DataConversionWarning: A column-vector y was passed when a 1d array was expected. Please change the shape of y to (n_samples, ), for example using ravel().\n",
      "  y = column_or_1d(y, warn=True)\n",
      "/home/ramdane/.local/lib/python3.7/site-packages/sklearn/preprocessing/_label.py:268: DataConversionWarning: A column-vector y was passed when a 1d array was expected. Please change the shape of y to (n_samples, ), for example using ravel().\n",
      "  y = column_or_1d(y, warn=True)\n",
      "/home/ramdane/.local/lib/python3.7/site-packages/sklearn/linear_model/_logistic.py:940: ConvergenceWarning: lbfgs failed to converge (status=1):\n",
      "STOP: TOTAL NO. of ITERATIONS REACHED LIMIT.\n",
      "\n",
      "Increase the number of iterations (max_iter) or scale the data as shown in:\n",
      "    https://scikit-learn.org/stable/modules/preprocessing.html\n",
      "Please also refer to the documentation for alternative solver options:\n",
      "    https://scikit-learn.org/stable/modules/linear_model.html#logistic-regression\n",
      "  extra_warning_msg=_LOGISTIC_SOLVER_CONVERGENCE_MSG)\n"
     ]
    },
    {
     "name": "stdout",
     "output_type": "stream",
     "text": [
      "PREDICT: dim(X)= [1440, 203]\n",
      "PREDICT: dim(y)= [1440, 1]\n",
      "FIT: dim(X)= [5763, 203]\n",
      "FIT: dim(y)= [5763, 1]\n"
     ]
    },
    {
     "name": "stderr",
     "output_type": "stream",
     "text": [
      "/home/ramdane/.local/lib/python3.7/site-packages/sklearn/preprocessing/_label.py:235: DataConversionWarning: A column-vector y was passed when a 1d array was expected. Please change the shape of y to (n_samples, ), for example using ravel().\n",
      "  y = column_or_1d(y, warn=True)\n",
      "/home/ramdane/.local/lib/python3.7/site-packages/sklearn/preprocessing/_label.py:268: DataConversionWarning: A column-vector y was passed when a 1d array was expected. Please change the shape of y to (n_samples, ), for example using ravel().\n",
      "  y = column_or_1d(y, warn=True)\n"
     ]
    },
    {
     "name": "stdout",
     "output_type": "stream",
     "text": [
      "PREDICT: dim(X)= [1440, 203]\n",
      "PREDICT: dim(y)= [1440, 1]\n",
      "Training train score for the balanced_accuracy_score metric = 1.0000\n",
      "Training valid score for the balanced_accuracy_score metric = 0.7768\n",
      "\n",
      "CV score (95 perc. CI): 0.76 (+/- 0.03)\n"
     ]
    }
   ],
   "source": [
    "clf = StackingClassifier(estimators=model_list, final_estimator=LogisticRegression())\n",
    "doBestModel(model(clf))"
   ]
  },
  {
   "cell_type": "markdown",
   "metadata": {},
   "source": [
    "### Looks good, I know how I can use stacking and woting, but I want to debug the metric score on the train data before I continue."
   ]
  },
  {
   "cell_type": "markdown",
   "metadata": {},
   "source": [
    "<div style=\"background:#FFFFAA\">\n",
    "<h1> Step 3: Making a submission </h1> \n",
    "\n",
    "<h2> Unit testing </h2> \n",
    "\n",
    "It is <b><span style=\"color:red\">important that you test your submission files before submitting them</span></b>. All you have to do to make a submission is modify the file <code>model.py</code> in the <code>sample_code_submission/</code> directory, then run this test to make sure everything works fine. This is the actual program that will be run on the server to test your submission. \n",
    "<br>\n",
    "Keep the sample code simple.\n",
    "</div>"
   ]
  },
  {
   "cell_type": "code",
   "execution_count": null,
   "metadata": {
    "scrolled": true
   },
   "outputs": [],
   "source": [
    "!source activate python3; python $problem_dir/ingestion.py $data_dir $result_dir $problem_dir $model_dir"
   ]
  },
  {
   "cell_type": "markdown",
   "metadata": {},
   "source": [
    "<div style=\"background:#FFFFAA\">\n",
    "Also test the scoring program:\n",
    "    </div>"
   ]
  },
  {
   "cell_type": "code",
   "execution_count": null,
   "metadata": {},
   "outputs": [],
   "source": [
    "scoring_output_dir = 'scoring_output'\n",
    "!source activate python3; python $score_dir/score.py $data_dir $result_dir $scoring_output_dir"
   ]
  },
  {
   "cell_type": "markdown",
   "metadata": {
    "collapsed": true
   },
   "source": [
    "<div style=\"background:#FFFFAA\">\n",
    "    <h1> Preparing the submission </h1>\n",
    "\n",
    "Zip the contents of `sample_code_submission/` (without the directory), or download the challenge public_data and run the command in the previous cell, after replacing sample_data by public_data.\n",
    "Then zip the contents of `sample_result_submission/` (without the directory).\n",
    "<b><span style=\"color:red\">Do NOT zip the data with your submissions</span></b>."
   ]
  },
  {
   "cell_type": "code",
   "execution_count": null,
   "metadata": {},
   "outputs": [],
   "source": [
    "import datetime \n",
    "from data_io import zipdir\n",
    "the_date = datetime.datetime.now().strftime(\"%y-%m-%d-%H-%M\")\n",
    "sample_code_submission = './sample_code_submission_' + the_date + '.zip'\n",
    "sample_result_submission = './sample_result_submission_' + the_date + '.zip'\n",
    "zipdir(sample_code_submission, model_dir)\n",
    "zipdir(sample_result_submission, result_dir)\n",
    "print(\"Submit one of these files:\\n\" + sample_code_submission + \"\\n\" + sample_result_submission)"
   ]
  },
  {
   "cell_type": "code",
   "execution_count": null,
   "metadata": {},
   "outputs": [],
   "source": []
  }
 ],
 "metadata": {
  "kernelspec": {
   "display_name": "Python 3",
   "language": "python",
   "name": "python3"
  },
  "language_info": {
   "codemirror_mode": {
    "name": "ipython",
    "version": 3
   },
   "file_extension": ".py",
   "mimetype": "text/x-python",
   "name": "python",
   "nbconvert_exporter": "python",
   "pygments_lexer": "ipython3",
   "version": "3.7.3"
  }
 },
 "nbformat": 4,
 "nbformat_minor": 1
}
